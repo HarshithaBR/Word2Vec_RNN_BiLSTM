{
  "nbformat": 4,
  "nbformat_minor": 0,
  "metadata": {
    "colab": {
      "provenance": [],
      "gpuType": "T4"
    },
    "kernelspec": {
      "name": "python3",
      "display_name": "Python 3"
    },
    "language_info": {
      "name": "python"
    },
    "accelerator": "GPU"
  },
  "cells": [
    {
      "cell_type": "markdown",
      "source": [
        "# CSCI 544 - Homework 3\n",
        "## Word2Vec, Feed Forward Network, Recurrent Neural Network\n",
        "\n",
        "### Harshitha B R (7530583855)"
      ],
      "metadata": {
        "id": "sKK5fF4yIkFt"
      }
    },
    {
      "cell_type": "code",
      "execution_count": 1,
      "metadata": {
        "id": "_RlmoiBCUaM8"
      },
      "outputs": [],
      "source": [
        "import pandas as pd\n",
        "import numpy as np\n",
        "import nltk"
      ]
    },
    {
      "cell_type": "code",
      "source": [
        "from google.colab import drive\n",
        "drive.mount('/content/drive')"
      ],
      "metadata": {
        "colab": {
          "base_uri": "https://localhost:8080/",
          "height": 0
        },
        "id": "DwBUo7mGUf46",
        "outputId": "7ebc57dc-5988-4f85-f364-f6ea9dcdbc95"
      },
      "execution_count": 2,
      "outputs": [
        {
          "output_type": "stream",
          "name": "stdout",
          "text": [
            "Mounted at /content/drive\n"
          ]
        }
      ]
    },
    {
      "cell_type": "code",
      "source": [
        "df =pd.read_csv('/content/drive/MyDrive/Colab Notebooks/ANLP/HW1/amazon_reviews_us_Office_Products_v1_00.tsv.gz', sep='\\t', error_bad_lines=False)"
      ],
      "metadata": {
        "colab": {
          "base_uri": "https://localhost:8080/",
          "height": 0
        },
        "id": "-clCPJrnUiuX",
        "outputId": "4be94a7e-ddf3-4ea0-cedc-621efb9a2278"
      },
      "execution_count": 3,
      "outputs": [
        {
          "output_type": "stream",
          "name": "stderr",
          "text": [
            "<ipython-input-3-11bd1a00f613>:1: FutureWarning: The error_bad_lines argument has been deprecated and will be removed in a future version. Use on_bad_lines in the future.\n",
            "\n",
            "\n",
            "  df =pd.read_csv('/content/drive/MyDrive/Colab Notebooks/ANLP/HW1/amazon_reviews_us_Office_Products_v1_00.tsv.gz', sep='\\t', error_bad_lines=False)\n",
            "Skipping line 20773: expected 15 fields, saw 22\n",
            "Skipping line 39834: expected 15 fields, saw 22\n",
            "Skipping line 52957: expected 15 fields, saw 22\n",
            "Skipping line 54540: expected 15 fields, saw 22\n",
            "\n",
            "Skipping line 80276: expected 15 fields, saw 22\n",
            "Skipping line 96168: expected 15 fields, saw 22\n",
            "Skipping line 96866: expected 15 fields, saw 22\n",
            "Skipping line 98175: expected 15 fields, saw 22\n",
            "Skipping line 112539: expected 15 fields, saw 22\n",
            "Skipping line 119377: expected 15 fields, saw 22\n",
            "Skipping line 120065: expected 15 fields, saw 22\n",
            "Skipping line 124703: expected 15 fields, saw 22\n",
            "\n",
            "Skipping line 134024: expected 15 fields, saw 22\n",
            "Skipping line 153938: expected 15 fields, saw 22\n",
            "Skipping line 156225: expected 15 fields, saw 22\n",
            "Skipping line 168603: expected 15 fields, saw 22\n",
            "Skipping line 187002: expected 15 fields, saw 22\n",
            "\n",
            "Skipping line 200397: expected 15 fields, saw 22\n",
            "Skipping line 203809: expected 15 fields, saw 22\n",
            "Skipping line 207680: expected 15 fields, saw 22\n",
            "Skipping line 223421: expected 15 fields, saw 22\n",
            "Skipping line 244032: expected 15 fields, saw 22\n",
            "\n",
            "Skipping line 270329: expected 15 fields, saw 22\n",
            "Skipping line 276484: expected 15 fields, saw 22\n",
            "Skipping line 304755: expected 15 fields, saw 22\n",
            "\n",
            "Skipping line 379449: expected 15 fields, saw 22\n",
            "Skipping line 386191: expected 15 fields, saw 22\n",
            "Skipping line 391811: expected 15 fields, saw 22\n",
            "\n",
            "Skipping line 414348: expected 15 fields, saw 22\n",
            "Skipping line 414773: expected 15 fields, saw 22\n",
            "Skipping line 417572: expected 15 fields, saw 22\n",
            "Skipping line 419496: expected 15 fields, saw 22\n",
            "Skipping line 430528: expected 15 fields, saw 22\n",
            "Skipping line 442230: expected 15 fields, saw 22\n",
            "Skipping line 450931: expected 15 fields, saw 22\n",
            "\n",
            "Skipping line 465377: expected 15 fields, saw 22\n",
            "Skipping line 467685: expected 15 fields, saw 22\n",
            "Skipping line 485055: expected 15 fields, saw 22\n",
            "Skipping line 487220: expected 15 fields, saw 22\n",
            "Skipping line 496076: expected 15 fields, saw 22\n",
            "Skipping line 512269: expected 15 fields, saw 22\n",
            "\n",
            "Skipping line 529505: expected 15 fields, saw 22\n",
            "Skipping line 531286: expected 15 fields, saw 22\n",
            "Skipping line 535424: expected 15 fields, saw 22\n",
            "Skipping line 569898: expected 15 fields, saw 22\n",
            "Skipping line 586293: expected 15 fields, saw 22\n",
            "\n",
            "Skipping line 593880: expected 15 fields, saw 22\n",
            "Skipping line 599274: expected 15 fields, saw 22\n",
            "Skipping line 607961: expected 15 fields, saw 22\n",
            "Skipping line 612413: expected 15 fields, saw 22\n",
            "Skipping line 615913: expected 15 fields, saw 22\n",
            "\n",
            "Skipping line 677580: expected 15 fields, saw 22\n",
            "Skipping line 687191: expected 15 fields, saw 22\n",
            "Skipping line 710819: expected 15 fields, saw 22\n",
            "\n",
            "Skipping line 728692: expected 15 fields, saw 22\n",
            "Skipping line 730216: expected 15 fields, saw 22\n",
            "Skipping line 758397: expected 15 fields, saw 22\n",
            "Skipping line 760061: expected 15 fields, saw 22\n",
            "Skipping line 768935: expected 15 fields, saw 22\n",
            "Skipping line 769483: expected 15 fields, saw 22\n",
            "\n",
            "Skipping line 822725: expected 15 fields, saw 22\n",
            "Skipping line 823621: expected 15 fields, saw 22\n",
            "\n",
            "Skipping line 857041: expected 15 fields, saw 22\n",
            "Skipping line 857320: expected 15 fields, saw 22\n",
            "Skipping line 858565: expected 15 fields, saw 22\n",
            "Skipping line 860629: expected 15 fields, saw 22\n",
            "Skipping line 864033: expected 15 fields, saw 22\n",
            "Skipping line 868673: expected 15 fields, saw 22\n",
            "Skipping line 869189: expected 15 fields, saw 22\n",
            "\n",
            "Skipping line 938605: expected 15 fields, saw 22\n",
            "Skipping line 940100: expected 15 fields, saw 22\n",
            "Skipping line 975137: expected 15 fields, saw 22\n",
            "Skipping line 976314: expected 15 fields, saw 22\n",
            "\n",
            "Skipping line 985597: expected 15 fields, saw 22\n",
            "Skipping line 990873: expected 15 fields, saw 22\n",
            "Skipping line 991806: expected 15 fields, saw 22\n",
            "Skipping line 1019808: expected 15 fields, saw 22\n",
            "Skipping line 1021526: expected 15 fields, saw 22\n",
            "Skipping line 1023905: expected 15 fields, saw 22\n",
            "Skipping line 1044207: expected 15 fields, saw 22\n",
            "\n",
            "Skipping line 1084683: expected 15 fields, saw 22\n",
            "Skipping line 1093288: expected 15 fields, saw 22\n",
            "\n",
            "Skipping line 1136430: expected 15 fields, saw 22\n",
            "Skipping line 1139815: expected 15 fields, saw 22\n",
            "\n",
            "Skipping line 1179821: expected 15 fields, saw 22\n",
            "Skipping line 1195351: expected 15 fields, saw 22\n",
            "Skipping line 1202007: expected 15 fields, saw 22\n",
            "Skipping line 1224868: expected 15 fields, saw 22\n",
            "Skipping line 1232490: expected 15 fields, saw 22\n",
            "Skipping line 1238697: expected 15 fields, saw 22\n",
            "\n",
            "Skipping line 1258654: expected 15 fields, saw 22\n",
            "Skipping line 1279948: expected 15 fields, saw 22\n",
            "Skipping line 1294360: expected 15 fields, saw 22\n",
            "Skipping line 1302240: expected 15 fields, saw 22\n",
            "\n",
            "Skipping line 1413654: expected 15 fields, saw 22\n",
            "\n",
            "Skipping line 1687095: expected 15 fields, saw 22\n",
            "\n",
            "Skipping line 1805966: expected 15 fields, saw 22\n",
            "\n",
            "Skipping line 1892134: expected 15 fields, saw 22\n",
            "\n",
            "<ipython-input-3-11bd1a00f613>:1: DtypeWarning: Columns (7) have mixed types. Specify dtype option on import or set low_memory=False.\n",
            "  df =pd.read_csv('/content/drive/MyDrive/Colab Notebooks/ANLP/HW1/amazon_reviews_us_Office_Products_v1_00.tsv.gz', sep='\\t', error_bad_lines=False)\n"
          ]
        }
      ]
    },
    {
      "cell_type": "code",
      "source": [
        "df"
      ],
      "metadata": {
        "colab": {
          "base_uri": "https://localhost:8080/",
          "height": 999
        },
        "id": "mvDrIRefVMkZ",
        "outputId": "dcf55409-82f3-4652-9ed3-87b5ac55d4a7"
      },
      "execution_count": 4,
      "outputs": [
        {
          "output_type": "execute_result",
          "data": {
            "text/plain": [
              "        marketplace  customer_id       review_id  product_id  product_parent  \\\n",
              "0                US     43081963  R18RVCKGH1SSI9  B001BM2MAC       307809868   \n",
              "1                US     10951564  R3L4L6LW1PUOFY  B00DZYEXPQ        75004341   \n",
              "2                US     21143145  R2J8AWXWTDX2TF  B00RTMUHDW       529689027   \n",
              "3                US     52782374  R1PR37BR7G3M6A  B00D7H8XB6       868449945   \n",
              "4                US     24045652  R3BDDDZMZBZDPU  B001XCWP34        33521401   \n",
              "...             ...          ...             ...         ...             ...   \n",
              "2640249          US     53005790   RLI7EI10S7SN0  B00000DM9M       223408988   \n",
              "2640250          US     52188548  R1F3SRK9MHE6A3  B00000DM9M       223408988   \n",
              "2640251          US     52090046  R23V0C4NRJL8EM  0807865001       307284585   \n",
              "2640252          US     52503173  R13ZAE1ATEUC1T  1572313188       870359649   \n",
              "2640253          US     52585611   RE8J5O2GY04NN  1572313188       870359649   \n",
              "\n",
              "                                             product_title product_category  \\\n",
              "0           Scotch Cushion Wrap 7961, 12 Inches x 100 Feet  Office Products   \n",
              "1                Dust-Off Compressed Gas Duster, Pack of 4  Office Products   \n",
              "2        Amram Tagger Standard Tag Attaching Tagging Gu...  Office Products   \n",
              "3        AmazonBasics 12-Sheet High-Security Micro-Cut ...  Office Products   \n",
              "4        Derwent Colored Pencils, Inktense Ink Pencils,...  Office Products   \n",
              "...                                                    ...              ...   \n",
              "2640249                 PalmOne III Leather Belt Clip Case  Office Products   \n",
              "2640250                 PalmOne III Leather Belt Clip Case  Office Products   \n",
              "2640251                  Gods and Heroes of Ancient Greece  Office Products   \n",
              "2640252  Microsoft EXCEL 97/ Visual Basic Step-by-Step ...  Office Products   \n",
              "2640253  Microsoft EXCEL 97/ Visual Basic Step-by-Step ...  Office Products   \n",
              "\n",
              "        star_rating  helpful_votes  total_votes vine verified_purchase  \\\n",
              "0                 5            0.0          0.0    N                 Y   \n",
              "1                 5            0.0          1.0    N                 Y   \n",
              "2                 5            0.0          0.0    N                 Y   \n",
              "3                 1            2.0          3.0    N                 Y   \n",
              "4                 4            0.0          0.0    N                 Y   \n",
              "...             ...            ...          ...  ...               ...   \n",
              "2640249           4           26.0         26.0    N                 N   \n",
              "2640250           4           18.0         18.0    N                 N   \n",
              "2640251           4            9.0         16.0    N                 N   \n",
              "2640252           5            0.0          0.0    N                 N   \n",
              "2640253           5            0.0          0.0    N                 N   \n",
              "\n",
              "                                           review_headline  \\\n",
              "0                                               Five Stars   \n",
              "1        Phffffffft, Phfffffft. Lots of air, and it's C...   \n",
              "2                            but I am sure I will like it.   \n",
              "3        and the shredder was dirty and the bin was par...   \n",
              "4                                               Four Stars   \n",
              "...                                                    ...   \n",
              "2640249  Great value! A must if you hate to carry thing...   \n",
              "2640250          Attaches the Palm Pilot like an appendage   \n",
              "2640251  Excellent information, pictures and stories, I...   \n",
              "2640252                                         class text   \n",
              "2640253                                 Microsoft's Finest   \n",
              "\n",
              "                                               review_body review_date  \n",
              "0                                           Great product.  2015-08-31  \n",
              "1        What's to say about this commodity item except...  2015-08-31  \n",
              "2          Haven't used yet, but I am sure I will like it.  2015-08-31  \n",
              "3        Although this was labeled as &#34;new&#34; the...  2015-08-31  \n",
              "4                          Gorgeous colors and easy to use  2015-08-31  \n",
              "...                                                    ...         ...  \n",
              "2640249  I can't live anymore whithout my Palm III. But...  1998-12-07  \n",
              "2640250  Although the Palm Pilot is thin and compact it...  1998-11-30  \n",
              "2640251  This book had a lot of great content without b...  1998-10-15  \n",
              "2640252  I am teaching a course in Excel and am using t...  1998-08-22  \n",
              "2640253  A very comprehensive layout of exactly how Vis...  1998-07-15  \n",
              "\n",
              "[2640254 rows x 15 columns]"
            ],
            "text/html": [
              "\n",
              "  <div id=\"df-1ce2ec5f-effa-4ec3-bbec-ba771c39e4f9\" class=\"colab-df-container\">\n",
              "    <div>\n",
              "<style scoped>\n",
              "    .dataframe tbody tr th:only-of-type {\n",
              "        vertical-align: middle;\n",
              "    }\n",
              "\n",
              "    .dataframe tbody tr th {\n",
              "        vertical-align: top;\n",
              "    }\n",
              "\n",
              "    .dataframe thead th {\n",
              "        text-align: right;\n",
              "    }\n",
              "</style>\n",
              "<table border=\"1\" class=\"dataframe\">\n",
              "  <thead>\n",
              "    <tr style=\"text-align: right;\">\n",
              "      <th></th>\n",
              "      <th>marketplace</th>\n",
              "      <th>customer_id</th>\n",
              "      <th>review_id</th>\n",
              "      <th>product_id</th>\n",
              "      <th>product_parent</th>\n",
              "      <th>product_title</th>\n",
              "      <th>product_category</th>\n",
              "      <th>star_rating</th>\n",
              "      <th>helpful_votes</th>\n",
              "      <th>total_votes</th>\n",
              "      <th>vine</th>\n",
              "      <th>verified_purchase</th>\n",
              "      <th>review_headline</th>\n",
              "      <th>review_body</th>\n",
              "      <th>review_date</th>\n",
              "    </tr>\n",
              "  </thead>\n",
              "  <tbody>\n",
              "    <tr>\n",
              "      <th>0</th>\n",
              "      <td>US</td>\n",
              "      <td>43081963</td>\n",
              "      <td>R18RVCKGH1SSI9</td>\n",
              "      <td>B001BM2MAC</td>\n",
              "      <td>307809868</td>\n",
              "      <td>Scotch Cushion Wrap 7961, 12 Inches x 100 Feet</td>\n",
              "      <td>Office Products</td>\n",
              "      <td>5</td>\n",
              "      <td>0.0</td>\n",
              "      <td>0.0</td>\n",
              "      <td>N</td>\n",
              "      <td>Y</td>\n",
              "      <td>Five Stars</td>\n",
              "      <td>Great product.</td>\n",
              "      <td>2015-08-31</td>\n",
              "    </tr>\n",
              "    <tr>\n",
              "      <th>1</th>\n",
              "      <td>US</td>\n",
              "      <td>10951564</td>\n",
              "      <td>R3L4L6LW1PUOFY</td>\n",
              "      <td>B00DZYEXPQ</td>\n",
              "      <td>75004341</td>\n",
              "      <td>Dust-Off Compressed Gas Duster, Pack of 4</td>\n",
              "      <td>Office Products</td>\n",
              "      <td>5</td>\n",
              "      <td>0.0</td>\n",
              "      <td>1.0</td>\n",
              "      <td>N</td>\n",
              "      <td>Y</td>\n",
              "      <td>Phffffffft, Phfffffft. Lots of air, and it's C...</td>\n",
              "      <td>What's to say about this commodity item except...</td>\n",
              "      <td>2015-08-31</td>\n",
              "    </tr>\n",
              "    <tr>\n",
              "      <th>2</th>\n",
              "      <td>US</td>\n",
              "      <td>21143145</td>\n",
              "      <td>R2J8AWXWTDX2TF</td>\n",
              "      <td>B00RTMUHDW</td>\n",
              "      <td>529689027</td>\n",
              "      <td>Amram Tagger Standard Tag Attaching Tagging Gu...</td>\n",
              "      <td>Office Products</td>\n",
              "      <td>5</td>\n",
              "      <td>0.0</td>\n",
              "      <td>0.0</td>\n",
              "      <td>N</td>\n",
              "      <td>Y</td>\n",
              "      <td>but I am sure I will like it.</td>\n",
              "      <td>Haven't used yet, but I am sure I will like it.</td>\n",
              "      <td>2015-08-31</td>\n",
              "    </tr>\n",
              "    <tr>\n",
              "      <th>3</th>\n",
              "      <td>US</td>\n",
              "      <td>52782374</td>\n",
              "      <td>R1PR37BR7G3M6A</td>\n",
              "      <td>B00D7H8XB6</td>\n",
              "      <td>868449945</td>\n",
              "      <td>AmazonBasics 12-Sheet High-Security Micro-Cut ...</td>\n",
              "      <td>Office Products</td>\n",
              "      <td>1</td>\n",
              "      <td>2.0</td>\n",
              "      <td>3.0</td>\n",
              "      <td>N</td>\n",
              "      <td>Y</td>\n",
              "      <td>and the shredder was dirty and the bin was par...</td>\n",
              "      <td>Although this was labeled as &amp;#34;new&amp;#34; the...</td>\n",
              "      <td>2015-08-31</td>\n",
              "    </tr>\n",
              "    <tr>\n",
              "      <th>4</th>\n",
              "      <td>US</td>\n",
              "      <td>24045652</td>\n",
              "      <td>R3BDDDZMZBZDPU</td>\n",
              "      <td>B001XCWP34</td>\n",
              "      <td>33521401</td>\n",
              "      <td>Derwent Colored Pencils, Inktense Ink Pencils,...</td>\n",
              "      <td>Office Products</td>\n",
              "      <td>4</td>\n",
              "      <td>0.0</td>\n",
              "      <td>0.0</td>\n",
              "      <td>N</td>\n",
              "      <td>Y</td>\n",
              "      <td>Four Stars</td>\n",
              "      <td>Gorgeous colors and easy to use</td>\n",
              "      <td>2015-08-31</td>\n",
              "    </tr>\n",
              "    <tr>\n",
              "      <th>...</th>\n",
              "      <td>...</td>\n",
              "      <td>...</td>\n",
              "      <td>...</td>\n",
              "      <td>...</td>\n",
              "      <td>...</td>\n",
              "      <td>...</td>\n",
              "      <td>...</td>\n",
              "      <td>...</td>\n",
              "      <td>...</td>\n",
              "      <td>...</td>\n",
              "      <td>...</td>\n",
              "      <td>...</td>\n",
              "      <td>...</td>\n",
              "      <td>...</td>\n",
              "      <td>...</td>\n",
              "    </tr>\n",
              "    <tr>\n",
              "      <th>2640249</th>\n",
              "      <td>US</td>\n",
              "      <td>53005790</td>\n",
              "      <td>RLI7EI10S7SN0</td>\n",
              "      <td>B00000DM9M</td>\n",
              "      <td>223408988</td>\n",
              "      <td>PalmOne III Leather Belt Clip Case</td>\n",
              "      <td>Office Products</td>\n",
              "      <td>4</td>\n",
              "      <td>26.0</td>\n",
              "      <td>26.0</td>\n",
              "      <td>N</td>\n",
              "      <td>N</td>\n",
              "      <td>Great value! A must if you hate to carry thing...</td>\n",
              "      <td>I can't live anymore whithout my Palm III. But...</td>\n",
              "      <td>1998-12-07</td>\n",
              "    </tr>\n",
              "    <tr>\n",
              "      <th>2640250</th>\n",
              "      <td>US</td>\n",
              "      <td>52188548</td>\n",
              "      <td>R1F3SRK9MHE6A3</td>\n",
              "      <td>B00000DM9M</td>\n",
              "      <td>223408988</td>\n",
              "      <td>PalmOne III Leather Belt Clip Case</td>\n",
              "      <td>Office Products</td>\n",
              "      <td>4</td>\n",
              "      <td>18.0</td>\n",
              "      <td>18.0</td>\n",
              "      <td>N</td>\n",
              "      <td>N</td>\n",
              "      <td>Attaches the Palm Pilot like an appendage</td>\n",
              "      <td>Although the Palm Pilot is thin and compact it...</td>\n",
              "      <td>1998-11-30</td>\n",
              "    </tr>\n",
              "    <tr>\n",
              "      <th>2640251</th>\n",
              "      <td>US</td>\n",
              "      <td>52090046</td>\n",
              "      <td>R23V0C4NRJL8EM</td>\n",
              "      <td>0807865001</td>\n",
              "      <td>307284585</td>\n",
              "      <td>Gods and Heroes of Ancient Greece</td>\n",
              "      <td>Office Products</td>\n",
              "      <td>4</td>\n",
              "      <td>9.0</td>\n",
              "      <td>16.0</td>\n",
              "      <td>N</td>\n",
              "      <td>N</td>\n",
              "      <td>Excellent information, pictures and stories, I...</td>\n",
              "      <td>This book had a lot of great content without b...</td>\n",
              "      <td>1998-10-15</td>\n",
              "    </tr>\n",
              "    <tr>\n",
              "      <th>2640252</th>\n",
              "      <td>US</td>\n",
              "      <td>52503173</td>\n",
              "      <td>R13ZAE1ATEUC1T</td>\n",
              "      <td>1572313188</td>\n",
              "      <td>870359649</td>\n",
              "      <td>Microsoft EXCEL 97/ Visual Basic Step-by-Step ...</td>\n",
              "      <td>Office Products</td>\n",
              "      <td>5</td>\n",
              "      <td>0.0</td>\n",
              "      <td>0.0</td>\n",
              "      <td>N</td>\n",
              "      <td>N</td>\n",
              "      <td>class text</td>\n",
              "      <td>I am teaching a course in Excel and am using t...</td>\n",
              "      <td>1998-08-22</td>\n",
              "    </tr>\n",
              "    <tr>\n",
              "      <th>2640253</th>\n",
              "      <td>US</td>\n",
              "      <td>52585611</td>\n",
              "      <td>RE8J5O2GY04NN</td>\n",
              "      <td>1572313188</td>\n",
              "      <td>870359649</td>\n",
              "      <td>Microsoft EXCEL 97/ Visual Basic Step-by-Step ...</td>\n",
              "      <td>Office Products</td>\n",
              "      <td>5</td>\n",
              "      <td>0.0</td>\n",
              "      <td>0.0</td>\n",
              "      <td>N</td>\n",
              "      <td>N</td>\n",
              "      <td>Microsoft's Finest</td>\n",
              "      <td>A very comprehensive layout of exactly how Vis...</td>\n",
              "      <td>1998-07-15</td>\n",
              "    </tr>\n",
              "  </tbody>\n",
              "</table>\n",
              "<p>2640254 rows × 15 columns</p>\n",
              "</div>\n",
              "    <div class=\"colab-df-buttons\">\n",
              "\n",
              "  <div class=\"colab-df-container\">\n",
              "    <button class=\"colab-df-convert\" onclick=\"convertToInteractive('df-1ce2ec5f-effa-4ec3-bbec-ba771c39e4f9')\"\n",
              "            title=\"Convert this dataframe to an interactive table.\"\n",
              "            style=\"display:none;\">\n",
              "\n",
              "  <svg xmlns=\"http://www.w3.org/2000/svg\" height=\"24px\" viewBox=\"0 -960 960 960\">\n",
              "    <path d=\"M120-120v-720h720v720H120Zm60-500h600v-160H180v160Zm220 220h160v-160H400v160Zm0 220h160v-160H400v160ZM180-400h160v-160H180v160Zm440 0h160v-160H620v160ZM180-180h160v-160H180v160Zm440 0h160v-160H620v160Z\"/>\n",
              "  </svg>\n",
              "    </button>\n",
              "\n",
              "  <style>\n",
              "    .colab-df-container {\n",
              "      display:flex;\n",
              "      gap: 12px;\n",
              "    }\n",
              "\n",
              "    .colab-df-convert {\n",
              "      background-color: #E8F0FE;\n",
              "      border: none;\n",
              "      border-radius: 50%;\n",
              "      cursor: pointer;\n",
              "      display: none;\n",
              "      fill: #1967D2;\n",
              "      height: 32px;\n",
              "      padding: 0 0 0 0;\n",
              "      width: 32px;\n",
              "    }\n",
              "\n",
              "    .colab-df-convert:hover {\n",
              "      background-color: #E2EBFA;\n",
              "      box-shadow: 0px 1px 2px rgba(60, 64, 67, 0.3), 0px 1px 3px 1px rgba(60, 64, 67, 0.15);\n",
              "      fill: #174EA6;\n",
              "    }\n",
              "\n",
              "    .colab-df-buttons div {\n",
              "      margin-bottom: 4px;\n",
              "    }\n",
              "\n",
              "    [theme=dark] .colab-df-convert {\n",
              "      background-color: #3B4455;\n",
              "      fill: #D2E3FC;\n",
              "    }\n",
              "\n",
              "    [theme=dark] .colab-df-convert:hover {\n",
              "      background-color: #434B5C;\n",
              "      box-shadow: 0px 1px 3px 1px rgba(0, 0, 0, 0.15);\n",
              "      filter: drop-shadow(0px 1px 2px rgba(0, 0, 0, 0.3));\n",
              "      fill: #FFFFFF;\n",
              "    }\n",
              "  </style>\n",
              "\n",
              "    <script>\n",
              "      const buttonEl =\n",
              "        document.querySelector('#df-1ce2ec5f-effa-4ec3-bbec-ba771c39e4f9 button.colab-df-convert');\n",
              "      buttonEl.style.display =\n",
              "        google.colab.kernel.accessAllowed ? 'block' : 'none';\n",
              "\n",
              "      async function convertToInteractive(key) {\n",
              "        const element = document.querySelector('#df-1ce2ec5f-effa-4ec3-bbec-ba771c39e4f9');\n",
              "        const dataTable =\n",
              "          await google.colab.kernel.invokeFunction('convertToInteractive',\n",
              "                                                    [key], {});\n",
              "        if (!dataTable) return;\n",
              "\n",
              "        const docLinkHtml = 'Like what you see? Visit the ' +\n",
              "          '<a target=\"_blank\" href=https://colab.research.google.com/notebooks/data_table.ipynb>data table notebook</a>'\n",
              "          + ' to learn more about interactive tables.';\n",
              "        element.innerHTML = '';\n",
              "        dataTable['output_type'] = 'display_data';\n",
              "        await google.colab.output.renderOutput(dataTable, element);\n",
              "        const docLink = document.createElement('div');\n",
              "        docLink.innerHTML = docLinkHtml;\n",
              "        element.appendChild(docLink);\n",
              "      }\n",
              "    </script>\n",
              "  </div>\n",
              "\n",
              "\n",
              "<div id=\"df-b8994d87-fc30-4fb7-b1a7-0e86a7fdc0f0\">\n",
              "  <button class=\"colab-df-quickchart\" onclick=\"quickchart('df-b8994d87-fc30-4fb7-b1a7-0e86a7fdc0f0')\"\n",
              "            title=\"Suggest charts.\"\n",
              "            style=\"display:none;\">\n",
              "\n",
              "<svg xmlns=\"http://www.w3.org/2000/svg\" height=\"24px\"viewBox=\"0 0 24 24\"\n",
              "     width=\"24px\">\n",
              "    <g>\n",
              "        <path d=\"M19 3H5c-1.1 0-2 .9-2 2v14c0 1.1.9 2 2 2h14c1.1 0 2-.9 2-2V5c0-1.1-.9-2-2-2zM9 17H7v-7h2v7zm4 0h-2V7h2v10zm4 0h-2v-4h2v4z\"/>\n",
              "    </g>\n",
              "</svg>\n",
              "  </button>\n",
              "\n",
              "<style>\n",
              "  .colab-df-quickchart {\n",
              "      --bg-color: #E8F0FE;\n",
              "      --fill-color: #1967D2;\n",
              "      --hover-bg-color: #E2EBFA;\n",
              "      --hover-fill-color: #174EA6;\n",
              "      --disabled-fill-color: #AAA;\n",
              "      --disabled-bg-color: #DDD;\n",
              "  }\n",
              "\n",
              "  [theme=dark] .colab-df-quickchart {\n",
              "      --bg-color: #3B4455;\n",
              "      --fill-color: #D2E3FC;\n",
              "      --hover-bg-color: #434B5C;\n",
              "      --hover-fill-color: #FFFFFF;\n",
              "      --disabled-bg-color: #3B4455;\n",
              "      --disabled-fill-color: #666;\n",
              "  }\n",
              "\n",
              "  .colab-df-quickchart {\n",
              "    background-color: var(--bg-color);\n",
              "    border: none;\n",
              "    border-radius: 50%;\n",
              "    cursor: pointer;\n",
              "    display: none;\n",
              "    fill: var(--fill-color);\n",
              "    height: 32px;\n",
              "    padding: 0;\n",
              "    width: 32px;\n",
              "  }\n",
              "\n",
              "  .colab-df-quickchart:hover {\n",
              "    background-color: var(--hover-bg-color);\n",
              "    box-shadow: 0 1px 2px rgba(60, 64, 67, 0.3), 0 1px 3px 1px rgba(60, 64, 67, 0.15);\n",
              "    fill: var(--button-hover-fill-color);\n",
              "  }\n",
              "\n",
              "  .colab-df-quickchart-complete:disabled,\n",
              "  .colab-df-quickchart-complete:disabled:hover {\n",
              "    background-color: var(--disabled-bg-color);\n",
              "    fill: var(--disabled-fill-color);\n",
              "    box-shadow: none;\n",
              "  }\n",
              "\n",
              "  .colab-df-spinner {\n",
              "    border: 2px solid var(--fill-color);\n",
              "    border-color: transparent;\n",
              "    border-bottom-color: var(--fill-color);\n",
              "    animation:\n",
              "      spin 1s steps(1) infinite;\n",
              "  }\n",
              "\n",
              "  @keyframes spin {\n",
              "    0% {\n",
              "      border-color: transparent;\n",
              "      border-bottom-color: var(--fill-color);\n",
              "      border-left-color: var(--fill-color);\n",
              "    }\n",
              "    20% {\n",
              "      border-color: transparent;\n",
              "      border-left-color: var(--fill-color);\n",
              "      border-top-color: var(--fill-color);\n",
              "    }\n",
              "    30% {\n",
              "      border-color: transparent;\n",
              "      border-left-color: var(--fill-color);\n",
              "      border-top-color: var(--fill-color);\n",
              "      border-right-color: var(--fill-color);\n",
              "    }\n",
              "    40% {\n",
              "      border-color: transparent;\n",
              "      border-right-color: var(--fill-color);\n",
              "      border-top-color: var(--fill-color);\n",
              "    }\n",
              "    60% {\n",
              "      border-color: transparent;\n",
              "      border-right-color: var(--fill-color);\n",
              "    }\n",
              "    80% {\n",
              "      border-color: transparent;\n",
              "      border-right-color: var(--fill-color);\n",
              "      border-bottom-color: var(--fill-color);\n",
              "    }\n",
              "    90% {\n",
              "      border-color: transparent;\n",
              "      border-bottom-color: var(--fill-color);\n",
              "    }\n",
              "  }\n",
              "</style>\n",
              "\n",
              "  <script>\n",
              "    async function quickchart(key) {\n",
              "      const quickchartButtonEl =\n",
              "        document.querySelector('#' + key + ' button');\n",
              "      quickchartButtonEl.disabled = true;  // To prevent multiple clicks.\n",
              "      quickchartButtonEl.classList.add('colab-df-spinner');\n",
              "      try {\n",
              "        const charts = await google.colab.kernel.invokeFunction(\n",
              "            'suggestCharts', [key], {});\n",
              "      } catch (error) {\n",
              "        console.error('Error during call to suggestCharts:', error);\n",
              "      }\n",
              "      quickchartButtonEl.classList.remove('colab-df-spinner');\n",
              "      quickchartButtonEl.classList.add('colab-df-quickchart-complete');\n",
              "    }\n",
              "    (() => {\n",
              "      let quickchartButtonEl =\n",
              "        document.querySelector('#df-b8994d87-fc30-4fb7-b1a7-0e86a7fdc0f0 button');\n",
              "      quickchartButtonEl.style.display =\n",
              "        google.colab.kernel.accessAllowed ? 'block' : 'none';\n",
              "    })();\n",
              "  </script>\n",
              "</div>\n",
              "    </div>\n",
              "  </div>\n"
            ]
          },
          "metadata": {},
          "execution_count": 4
        }
      ]
    },
    {
      "cell_type": "code",
      "source": [
        "#dropping empty rows\n",
        "df.dropna(subset=['review_body', 'star_rating'], inplace=True)\n"
      ],
      "metadata": {
        "id": "jhrTrvPeWhLh"
      },
      "execution_count": 5,
      "outputs": []
    },
    {
      "cell_type": "code",
      "source": [
        "import re\n",
        "import string\n",
        "def cleanReviews(text):\n",
        "    if pd.isna(text):\n",
        "        return \"\"\n",
        "\n",
        "    text = text.lower()\n",
        "    text = text.strip() #to remove any trailing and leading spaces in the review\n",
        "    text = re.sub(r'<.*?>', '', text) # to remove HTML tags\n",
        "    text = re.sub(r'[^a-zA-Z\\s]', '', text) # to remove special characters, punctuation, and symbols\n",
        "    text = text.translate(str.maketrans('', '', string.punctuation)) #to remove punctuation\n",
        "\n",
        "    return text\n",
        "df['review_body'] = df['review_body'].apply(cleanReviews)"
      ],
      "metadata": {
        "id": "hcJ5_ctMTiDL"
      },
      "execution_count": 6,
      "outputs": []
    },
    {
      "cell_type": "code",
      "source": [
        "#getting the labels wrt star_rating\n",
        "df['sentiment'] = df['star_rating'].apply(lambda rating: '1' if int(rating) >= 4 else '0')"
      ],
      "metadata": {
        "id": "RqoiW1o6VcYv"
      },
      "execution_count": 7,
      "outputs": []
    },
    {
      "cell_type": "code",
      "source": [
        "df"
      ],
      "metadata": {
        "colab": {
          "base_uri": "https://localhost:8080/",
          "height": 999
        },
        "id": "KRErqPTiWdhP",
        "outputId": "d91fd88d-7c42-49d8-d96f-a0f6246fc469"
      },
      "execution_count": null,
      "outputs": [
        {
          "output_type": "execute_result",
          "data": {
            "text/plain": [
              "        marketplace  customer_id       review_id  product_id  product_parent  \\\n",
              "0                US     43081963  R18RVCKGH1SSI9  B001BM2MAC       307809868   \n",
              "1                US     10951564  R3L4L6LW1PUOFY  B00DZYEXPQ        75004341   \n",
              "2                US     21143145  R2J8AWXWTDX2TF  B00RTMUHDW       529689027   \n",
              "3                US     52782374  R1PR37BR7G3M6A  B00D7H8XB6       868449945   \n",
              "4                US     24045652  R3BDDDZMZBZDPU  B001XCWP34        33521401   \n",
              "...             ...          ...             ...         ...             ...   \n",
              "2640249          US     53005790   RLI7EI10S7SN0  B00000DM9M       223408988   \n",
              "2640250          US     52188548  R1F3SRK9MHE6A3  B00000DM9M       223408988   \n",
              "2640251          US     52090046  R23V0C4NRJL8EM  0807865001       307284585   \n",
              "2640252          US     52503173  R13ZAE1ATEUC1T  1572313188       870359649   \n",
              "2640253          US     52585611   RE8J5O2GY04NN  1572313188       870359649   \n",
              "\n",
              "                                             product_title product_category  \\\n",
              "0           Scotch Cushion Wrap 7961, 12 Inches x 100 Feet  Office Products   \n",
              "1                Dust-Off Compressed Gas Duster, Pack of 4  Office Products   \n",
              "2        Amram Tagger Standard Tag Attaching Tagging Gu...  Office Products   \n",
              "3        AmazonBasics 12-Sheet High-Security Micro-Cut ...  Office Products   \n",
              "4        Derwent Colored Pencils, Inktense Ink Pencils,...  Office Products   \n",
              "...                                                    ...              ...   \n",
              "2640249                 PalmOne III Leather Belt Clip Case  Office Products   \n",
              "2640250                 PalmOne III Leather Belt Clip Case  Office Products   \n",
              "2640251                  Gods and Heroes of Ancient Greece  Office Products   \n",
              "2640252  Microsoft EXCEL 97/ Visual Basic Step-by-Step ...  Office Products   \n",
              "2640253  Microsoft EXCEL 97/ Visual Basic Step-by-Step ...  Office Products   \n",
              "\n",
              "        star_rating  helpful_votes  total_votes vine verified_purchase  \\\n",
              "0                 5            0.0          0.0    N                 Y   \n",
              "1                 5            0.0          1.0    N                 Y   \n",
              "2                 5            0.0          0.0    N                 Y   \n",
              "3                 1            2.0          3.0    N                 Y   \n",
              "4                 4            0.0          0.0    N                 Y   \n",
              "...             ...            ...          ...  ...               ...   \n",
              "2640249           4           26.0         26.0    N                 N   \n",
              "2640250           4           18.0         18.0    N                 N   \n",
              "2640251           4            9.0         16.0    N                 N   \n",
              "2640252           5            0.0          0.0    N                 N   \n",
              "2640253           5            0.0          0.0    N                 N   \n",
              "\n",
              "                                           review_headline  \\\n",
              "0                                               Five Stars   \n",
              "1        Phffffffft, Phfffffft. Lots of air, and it's C...   \n",
              "2                            but I am sure I will like it.   \n",
              "3        and the shredder was dirty and the bin was par...   \n",
              "4                                               Four Stars   \n",
              "...                                                    ...   \n",
              "2640249  Great value! A must if you hate to carry thing...   \n",
              "2640250          Attaches the Palm Pilot like an appendage   \n",
              "2640251  Excellent information, pictures and stories, I...   \n",
              "2640252                                         class text   \n",
              "2640253                                 Microsoft's Finest   \n",
              "\n",
              "                                               review_body review_date  \\\n",
              "0                                           Great product.  2015-08-31   \n",
              "1        What's to say about this commodity item except...  2015-08-31   \n",
              "2          Haven't used yet, but I am sure I will like it.  2015-08-31   \n",
              "3        Although this was labeled as &#34;new&#34; the...  2015-08-31   \n",
              "4                          Gorgeous colors and easy to use  2015-08-31   \n",
              "...                                                    ...         ...   \n",
              "2640249  I can't live anymore whithout my Palm III. But...  1998-12-07   \n",
              "2640250  Although the Palm Pilot is thin and compact it...  1998-11-30   \n",
              "2640251  This book had a lot of great content without b...  1998-10-15   \n",
              "2640252  I am teaching a course in Excel and am using t...  1998-08-22   \n",
              "2640253  A very comprehensive layout of exactly how Vis...  1998-07-15   \n",
              "\n",
              "        sentiment  \n",
              "0               1  \n",
              "1               1  \n",
              "2               1  \n",
              "3               0  \n",
              "4               1  \n",
              "...           ...  \n",
              "2640249         1  \n",
              "2640250         1  \n",
              "2640251         1  \n",
              "2640252         1  \n",
              "2640253         1  \n",
              "\n",
              "[2640157 rows x 16 columns]"
            ],
            "text/html": [
              "\n",
              "  <div id=\"df-ee6b887a-4a65-4059-aa28-9c3d379143df\" class=\"colab-df-container\">\n",
              "    <div>\n",
              "<style scoped>\n",
              "    .dataframe tbody tr th:only-of-type {\n",
              "        vertical-align: middle;\n",
              "    }\n",
              "\n",
              "    .dataframe tbody tr th {\n",
              "        vertical-align: top;\n",
              "    }\n",
              "\n",
              "    .dataframe thead th {\n",
              "        text-align: right;\n",
              "    }\n",
              "</style>\n",
              "<table border=\"1\" class=\"dataframe\">\n",
              "  <thead>\n",
              "    <tr style=\"text-align: right;\">\n",
              "      <th></th>\n",
              "      <th>marketplace</th>\n",
              "      <th>customer_id</th>\n",
              "      <th>review_id</th>\n",
              "      <th>product_id</th>\n",
              "      <th>product_parent</th>\n",
              "      <th>product_title</th>\n",
              "      <th>product_category</th>\n",
              "      <th>star_rating</th>\n",
              "      <th>helpful_votes</th>\n",
              "      <th>total_votes</th>\n",
              "      <th>vine</th>\n",
              "      <th>verified_purchase</th>\n",
              "      <th>review_headline</th>\n",
              "      <th>review_body</th>\n",
              "      <th>review_date</th>\n",
              "      <th>sentiment</th>\n",
              "    </tr>\n",
              "  </thead>\n",
              "  <tbody>\n",
              "    <tr>\n",
              "      <th>0</th>\n",
              "      <td>US</td>\n",
              "      <td>43081963</td>\n",
              "      <td>R18RVCKGH1SSI9</td>\n",
              "      <td>B001BM2MAC</td>\n",
              "      <td>307809868</td>\n",
              "      <td>Scotch Cushion Wrap 7961, 12 Inches x 100 Feet</td>\n",
              "      <td>Office Products</td>\n",
              "      <td>5</td>\n",
              "      <td>0.0</td>\n",
              "      <td>0.0</td>\n",
              "      <td>N</td>\n",
              "      <td>Y</td>\n",
              "      <td>Five Stars</td>\n",
              "      <td>Great product.</td>\n",
              "      <td>2015-08-31</td>\n",
              "      <td>1</td>\n",
              "    </tr>\n",
              "    <tr>\n",
              "      <th>1</th>\n",
              "      <td>US</td>\n",
              "      <td>10951564</td>\n",
              "      <td>R3L4L6LW1PUOFY</td>\n",
              "      <td>B00DZYEXPQ</td>\n",
              "      <td>75004341</td>\n",
              "      <td>Dust-Off Compressed Gas Duster, Pack of 4</td>\n",
              "      <td>Office Products</td>\n",
              "      <td>5</td>\n",
              "      <td>0.0</td>\n",
              "      <td>1.0</td>\n",
              "      <td>N</td>\n",
              "      <td>Y</td>\n",
              "      <td>Phffffffft, Phfffffft. Lots of air, and it's C...</td>\n",
              "      <td>What's to say about this commodity item except...</td>\n",
              "      <td>2015-08-31</td>\n",
              "      <td>1</td>\n",
              "    </tr>\n",
              "    <tr>\n",
              "      <th>2</th>\n",
              "      <td>US</td>\n",
              "      <td>21143145</td>\n",
              "      <td>R2J8AWXWTDX2TF</td>\n",
              "      <td>B00RTMUHDW</td>\n",
              "      <td>529689027</td>\n",
              "      <td>Amram Tagger Standard Tag Attaching Tagging Gu...</td>\n",
              "      <td>Office Products</td>\n",
              "      <td>5</td>\n",
              "      <td>0.0</td>\n",
              "      <td>0.0</td>\n",
              "      <td>N</td>\n",
              "      <td>Y</td>\n",
              "      <td>but I am sure I will like it.</td>\n",
              "      <td>Haven't used yet, but I am sure I will like it.</td>\n",
              "      <td>2015-08-31</td>\n",
              "      <td>1</td>\n",
              "    </tr>\n",
              "    <tr>\n",
              "      <th>3</th>\n",
              "      <td>US</td>\n",
              "      <td>52782374</td>\n",
              "      <td>R1PR37BR7G3M6A</td>\n",
              "      <td>B00D7H8XB6</td>\n",
              "      <td>868449945</td>\n",
              "      <td>AmazonBasics 12-Sheet High-Security Micro-Cut ...</td>\n",
              "      <td>Office Products</td>\n",
              "      <td>1</td>\n",
              "      <td>2.0</td>\n",
              "      <td>3.0</td>\n",
              "      <td>N</td>\n",
              "      <td>Y</td>\n",
              "      <td>and the shredder was dirty and the bin was par...</td>\n",
              "      <td>Although this was labeled as &amp;#34;new&amp;#34; the...</td>\n",
              "      <td>2015-08-31</td>\n",
              "      <td>0</td>\n",
              "    </tr>\n",
              "    <tr>\n",
              "      <th>4</th>\n",
              "      <td>US</td>\n",
              "      <td>24045652</td>\n",
              "      <td>R3BDDDZMZBZDPU</td>\n",
              "      <td>B001XCWP34</td>\n",
              "      <td>33521401</td>\n",
              "      <td>Derwent Colored Pencils, Inktense Ink Pencils,...</td>\n",
              "      <td>Office Products</td>\n",
              "      <td>4</td>\n",
              "      <td>0.0</td>\n",
              "      <td>0.0</td>\n",
              "      <td>N</td>\n",
              "      <td>Y</td>\n",
              "      <td>Four Stars</td>\n",
              "      <td>Gorgeous colors and easy to use</td>\n",
              "      <td>2015-08-31</td>\n",
              "      <td>1</td>\n",
              "    </tr>\n",
              "    <tr>\n",
              "      <th>...</th>\n",
              "      <td>...</td>\n",
              "      <td>...</td>\n",
              "      <td>...</td>\n",
              "      <td>...</td>\n",
              "      <td>...</td>\n",
              "      <td>...</td>\n",
              "      <td>...</td>\n",
              "      <td>...</td>\n",
              "      <td>...</td>\n",
              "      <td>...</td>\n",
              "      <td>...</td>\n",
              "      <td>...</td>\n",
              "      <td>...</td>\n",
              "      <td>...</td>\n",
              "      <td>...</td>\n",
              "      <td>...</td>\n",
              "    </tr>\n",
              "    <tr>\n",
              "      <th>2640249</th>\n",
              "      <td>US</td>\n",
              "      <td>53005790</td>\n",
              "      <td>RLI7EI10S7SN0</td>\n",
              "      <td>B00000DM9M</td>\n",
              "      <td>223408988</td>\n",
              "      <td>PalmOne III Leather Belt Clip Case</td>\n",
              "      <td>Office Products</td>\n",
              "      <td>4</td>\n",
              "      <td>26.0</td>\n",
              "      <td>26.0</td>\n",
              "      <td>N</td>\n",
              "      <td>N</td>\n",
              "      <td>Great value! A must if you hate to carry thing...</td>\n",
              "      <td>I can't live anymore whithout my Palm III. But...</td>\n",
              "      <td>1998-12-07</td>\n",
              "      <td>1</td>\n",
              "    </tr>\n",
              "    <tr>\n",
              "      <th>2640250</th>\n",
              "      <td>US</td>\n",
              "      <td>52188548</td>\n",
              "      <td>R1F3SRK9MHE6A3</td>\n",
              "      <td>B00000DM9M</td>\n",
              "      <td>223408988</td>\n",
              "      <td>PalmOne III Leather Belt Clip Case</td>\n",
              "      <td>Office Products</td>\n",
              "      <td>4</td>\n",
              "      <td>18.0</td>\n",
              "      <td>18.0</td>\n",
              "      <td>N</td>\n",
              "      <td>N</td>\n",
              "      <td>Attaches the Palm Pilot like an appendage</td>\n",
              "      <td>Although the Palm Pilot is thin and compact it...</td>\n",
              "      <td>1998-11-30</td>\n",
              "      <td>1</td>\n",
              "    </tr>\n",
              "    <tr>\n",
              "      <th>2640251</th>\n",
              "      <td>US</td>\n",
              "      <td>52090046</td>\n",
              "      <td>R23V0C4NRJL8EM</td>\n",
              "      <td>0807865001</td>\n",
              "      <td>307284585</td>\n",
              "      <td>Gods and Heroes of Ancient Greece</td>\n",
              "      <td>Office Products</td>\n",
              "      <td>4</td>\n",
              "      <td>9.0</td>\n",
              "      <td>16.0</td>\n",
              "      <td>N</td>\n",
              "      <td>N</td>\n",
              "      <td>Excellent information, pictures and stories, I...</td>\n",
              "      <td>This book had a lot of great content without b...</td>\n",
              "      <td>1998-10-15</td>\n",
              "      <td>1</td>\n",
              "    </tr>\n",
              "    <tr>\n",
              "      <th>2640252</th>\n",
              "      <td>US</td>\n",
              "      <td>52503173</td>\n",
              "      <td>R13ZAE1ATEUC1T</td>\n",
              "      <td>1572313188</td>\n",
              "      <td>870359649</td>\n",
              "      <td>Microsoft EXCEL 97/ Visual Basic Step-by-Step ...</td>\n",
              "      <td>Office Products</td>\n",
              "      <td>5</td>\n",
              "      <td>0.0</td>\n",
              "      <td>0.0</td>\n",
              "      <td>N</td>\n",
              "      <td>N</td>\n",
              "      <td>class text</td>\n",
              "      <td>I am teaching a course in Excel and am using t...</td>\n",
              "      <td>1998-08-22</td>\n",
              "      <td>1</td>\n",
              "    </tr>\n",
              "    <tr>\n",
              "      <th>2640253</th>\n",
              "      <td>US</td>\n",
              "      <td>52585611</td>\n",
              "      <td>RE8J5O2GY04NN</td>\n",
              "      <td>1572313188</td>\n",
              "      <td>870359649</td>\n",
              "      <td>Microsoft EXCEL 97/ Visual Basic Step-by-Step ...</td>\n",
              "      <td>Office Products</td>\n",
              "      <td>5</td>\n",
              "      <td>0.0</td>\n",
              "      <td>0.0</td>\n",
              "      <td>N</td>\n",
              "      <td>N</td>\n",
              "      <td>Microsoft's Finest</td>\n",
              "      <td>A very comprehensive layout of exactly how Vis...</td>\n",
              "      <td>1998-07-15</td>\n",
              "      <td>1</td>\n",
              "    </tr>\n",
              "  </tbody>\n",
              "</table>\n",
              "<p>2640157 rows × 16 columns</p>\n",
              "</div>\n",
              "    <div class=\"colab-df-buttons\">\n",
              "\n",
              "  <div class=\"colab-df-container\">\n",
              "    <button class=\"colab-df-convert\" onclick=\"convertToInteractive('df-ee6b887a-4a65-4059-aa28-9c3d379143df')\"\n",
              "            title=\"Convert this dataframe to an interactive table.\"\n",
              "            style=\"display:none;\">\n",
              "\n",
              "  <svg xmlns=\"http://www.w3.org/2000/svg\" height=\"24px\" viewBox=\"0 -960 960 960\">\n",
              "    <path d=\"M120-120v-720h720v720H120Zm60-500h600v-160H180v160Zm220 220h160v-160H400v160Zm0 220h160v-160H400v160ZM180-400h160v-160H180v160Zm440 0h160v-160H620v160ZM180-180h160v-160H180v160Zm440 0h160v-160H620v160Z\"/>\n",
              "  </svg>\n",
              "    </button>\n",
              "\n",
              "  <style>\n",
              "    .colab-df-container {\n",
              "      display:flex;\n",
              "      gap: 12px;\n",
              "    }\n",
              "\n",
              "    .colab-df-convert {\n",
              "      background-color: #E8F0FE;\n",
              "      border: none;\n",
              "      border-radius: 50%;\n",
              "      cursor: pointer;\n",
              "      display: none;\n",
              "      fill: #1967D2;\n",
              "      height: 32px;\n",
              "      padding: 0 0 0 0;\n",
              "      width: 32px;\n",
              "    }\n",
              "\n",
              "    .colab-df-convert:hover {\n",
              "      background-color: #E2EBFA;\n",
              "      box-shadow: 0px 1px 2px rgba(60, 64, 67, 0.3), 0px 1px 3px 1px rgba(60, 64, 67, 0.15);\n",
              "      fill: #174EA6;\n",
              "    }\n",
              "\n",
              "    .colab-df-buttons div {\n",
              "      margin-bottom: 4px;\n",
              "    }\n",
              "\n",
              "    [theme=dark] .colab-df-convert {\n",
              "      background-color: #3B4455;\n",
              "      fill: #D2E3FC;\n",
              "    }\n",
              "\n",
              "    [theme=dark] .colab-df-convert:hover {\n",
              "      background-color: #434B5C;\n",
              "      box-shadow: 0px 1px 3px 1px rgba(0, 0, 0, 0.15);\n",
              "      filter: drop-shadow(0px 1px 2px rgba(0, 0, 0, 0.3));\n",
              "      fill: #FFFFFF;\n",
              "    }\n",
              "  </style>\n",
              "\n",
              "    <script>\n",
              "      const buttonEl =\n",
              "        document.querySelector('#df-ee6b887a-4a65-4059-aa28-9c3d379143df button.colab-df-convert');\n",
              "      buttonEl.style.display =\n",
              "        google.colab.kernel.accessAllowed ? 'block' : 'none';\n",
              "\n",
              "      async function convertToInteractive(key) {\n",
              "        const element = document.querySelector('#df-ee6b887a-4a65-4059-aa28-9c3d379143df');\n",
              "        const dataTable =\n",
              "          await google.colab.kernel.invokeFunction('convertToInteractive',\n",
              "                                                    [key], {});\n",
              "        if (!dataTable) return;\n",
              "\n",
              "        const docLinkHtml = 'Like what you see? Visit the ' +\n",
              "          '<a target=\"_blank\" href=https://colab.research.google.com/notebooks/data_table.ipynb>data table notebook</a>'\n",
              "          + ' to learn more about interactive tables.';\n",
              "        element.innerHTML = '';\n",
              "        dataTable['output_type'] = 'display_data';\n",
              "        await google.colab.output.renderOutput(dataTable, element);\n",
              "        const docLink = document.createElement('div');\n",
              "        docLink.innerHTML = docLinkHtml;\n",
              "        element.appendChild(docLink);\n",
              "      }\n",
              "    </script>\n",
              "  </div>\n",
              "\n",
              "\n",
              "<div id=\"df-d36718fa-630d-4dbf-bedc-fe313e8f0d24\">\n",
              "  <button class=\"colab-df-quickchart\" onclick=\"quickchart('df-d36718fa-630d-4dbf-bedc-fe313e8f0d24')\"\n",
              "            title=\"Suggest charts.\"\n",
              "            style=\"display:none;\">\n",
              "\n",
              "<svg xmlns=\"http://www.w3.org/2000/svg\" height=\"24px\"viewBox=\"0 0 24 24\"\n",
              "     width=\"24px\">\n",
              "    <g>\n",
              "        <path d=\"M19 3H5c-1.1 0-2 .9-2 2v14c0 1.1.9 2 2 2h14c1.1 0 2-.9 2-2V5c0-1.1-.9-2-2-2zM9 17H7v-7h2v7zm4 0h-2V7h2v10zm4 0h-2v-4h2v4z\"/>\n",
              "    </g>\n",
              "</svg>\n",
              "  </button>\n",
              "\n",
              "<style>\n",
              "  .colab-df-quickchart {\n",
              "      --bg-color: #E8F0FE;\n",
              "      --fill-color: #1967D2;\n",
              "      --hover-bg-color: #E2EBFA;\n",
              "      --hover-fill-color: #174EA6;\n",
              "      --disabled-fill-color: #AAA;\n",
              "      --disabled-bg-color: #DDD;\n",
              "  }\n",
              "\n",
              "  [theme=dark] .colab-df-quickchart {\n",
              "      --bg-color: #3B4455;\n",
              "      --fill-color: #D2E3FC;\n",
              "      --hover-bg-color: #434B5C;\n",
              "      --hover-fill-color: #FFFFFF;\n",
              "      --disabled-bg-color: #3B4455;\n",
              "      --disabled-fill-color: #666;\n",
              "  }\n",
              "\n",
              "  .colab-df-quickchart {\n",
              "    background-color: var(--bg-color);\n",
              "    border: none;\n",
              "    border-radius: 50%;\n",
              "    cursor: pointer;\n",
              "    display: none;\n",
              "    fill: var(--fill-color);\n",
              "    height: 32px;\n",
              "    padding: 0;\n",
              "    width: 32px;\n",
              "  }\n",
              "\n",
              "  .colab-df-quickchart:hover {\n",
              "    background-color: var(--hover-bg-color);\n",
              "    box-shadow: 0 1px 2px rgba(60, 64, 67, 0.3), 0 1px 3px 1px rgba(60, 64, 67, 0.15);\n",
              "    fill: var(--button-hover-fill-color);\n",
              "  }\n",
              "\n",
              "  .colab-df-quickchart-complete:disabled,\n",
              "  .colab-df-quickchart-complete:disabled:hover {\n",
              "    background-color: var(--disabled-bg-color);\n",
              "    fill: var(--disabled-fill-color);\n",
              "    box-shadow: none;\n",
              "  }\n",
              "\n",
              "  .colab-df-spinner {\n",
              "    border: 2px solid var(--fill-color);\n",
              "    border-color: transparent;\n",
              "    border-bottom-color: var(--fill-color);\n",
              "    animation:\n",
              "      spin 1s steps(1) infinite;\n",
              "  }\n",
              "\n",
              "  @keyframes spin {\n",
              "    0% {\n",
              "      border-color: transparent;\n",
              "      border-bottom-color: var(--fill-color);\n",
              "      border-left-color: var(--fill-color);\n",
              "    }\n",
              "    20% {\n",
              "      border-color: transparent;\n",
              "      border-left-color: var(--fill-color);\n",
              "      border-top-color: var(--fill-color);\n",
              "    }\n",
              "    30% {\n",
              "      border-color: transparent;\n",
              "      border-left-color: var(--fill-color);\n",
              "      border-top-color: var(--fill-color);\n",
              "      border-right-color: var(--fill-color);\n",
              "    }\n",
              "    40% {\n",
              "      border-color: transparent;\n",
              "      border-right-color: var(--fill-color);\n",
              "      border-top-color: var(--fill-color);\n",
              "    }\n",
              "    60% {\n",
              "      border-color: transparent;\n",
              "      border-right-color: var(--fill-color);\n",
              "    }\n",
              "    80% {\n",
              "      border-color: transparent;\n",
              "      border-right-color: var(--fill-color);\n",
              "      border-bottom-color: var(--fill-color);\n",
              "    }\n",
              "    90% {\n",
              "      border-color: transparent;\n",
              "      border-bottom-color: var(--fill-color);\n",
              "    }\n",
              "  }\n",
              "</style>\n",
              "\n",
              "  <script>\n",
              "    async function quickchart(key) {\n",
              "      const quickchartButtonEl =\n",
              "        document.querySelector('#' + key + ' button');\n",
              "      quickchartButtonEl.disabled = true;  // To prevent multiple clicks.\n",
              "      quickchartButtonEl.classList.add('colab-df-spinner');\n",
              "      try {\n",
              "        const charts = await google.colab.kernel.invokeFunction(\n",
              "            'suggestCharts', [key], {});\n",
              "      } catch (error) {\n",
              "        console.error('Error during call to suggestCharts:', error);\n",
              "      }\n",
              "      quickchartButtonEl.classList.remove('colab-df-spinner');\n",
              "      quickchartButtonEl.classList.add('colab-df-quickchart-complete');\n",
              "    }\n",
              "    (() => {\n",
              "      let quickchartButtonEl =\n",
              "        document.querySelector('#df-d36718fa-630d-4dbf-bedc-fe313e8f0d24 button');\n",
              "      quickchartButtonEl.style.display =\n",
              "        google.colab.kernel.accessAllowed ? 'block' : 'none';\n",
              "    })();\n",
              "  </script>\n",
              "</div>\n",
              "    </div>\n",
              "  </div>\n"
            ]
          },
          "metadata": {},
          "execution_count": 6
        }
      ]
    },
    {
      "cell_type": "code",
      "source": [
        "#sampling the data and getting 50000 of positive and negetive data\n",
        "positive_count = (df['sentiment'] == str(1)).sum()\n",
        "negative_count = (df['sentiment'] == str(0)).sum()\n",
        "num_samples = min(50000, positive_count, negative_count)\n",
        "\n",
        "#sample the rows for each sentiment value\n",
        "positive_samples = df[df['sentiment'] == str(1)].sample(n=num_samples, random_state=11)\n",
        "negative_samples = df[df['sentiment'] == str(0)].sample(n=num_samples, random_state=11)\n"
      ],
      "metadata": {
        "id": "1xQAMr_KWp57"
      },
      "execution_count": 8,
      "outputs": []
    },
    {
      "cell_type": "code",
      "source": [
        "#combine the sampled rows into a single DataFrame\n",
        "sampled_df = pd.concat([positive_samples, negative_samples])\n",
        "\n",
        "#index of the combined DataFrame is reset\n",
        "sampled_df.reset_index(drop=True, inplace=True)\n",
        "sdf = sampled_df"
      ],
      "metadata": {
        "id": "eP4FDEa3WwZj"
      },
      "execution_count": 9,
      "outputs": []
    },
    {
      "cell_type": "code",
      "source": [
        "sdf"
      ],
      "metadata": {
        "colab": {
          "base_uri": "https://localhost:8080/",
          "height": 981
        },
        "id": "QQqSWxvYWz4I",
        "outputId": "26625b54-e62f-4f3f-f54d-9cd6afa284a7"
      },
      "execution_count": 14,
      "outputs": [
        {
          "output_type": "execute_result",
          "data": {
            "text/plain": [
              "      marketplace  customer_id       review_id  product_id  product_parent  \\\n",
              "0              US     18476273  R2HEJ8GNO1J41R  B00006IRUC       136362376   \n",
              "1              US       858386  R11DAO5QBXB8MH  B00HYO512C       616641385   \n",
              "2              US     45996110  R2U6DL71MUODTR  B00LEA8X6S       214113984   \n",
              "3              US     30295038  R3EMH6RFDQPLGX  B00000J19R       354661798   \n",
              "4              US       336150  R1T8N0H6VRZI3A  B00CHC5Y3W       406646024   \n",
              "...           ...          ...             ...         ...             ...   \n",
              "99995          US     43528115  R2RL1F9WNWIFV7  B004AGQ8LK        80677933   \n",
              "99996          US     50472709   RQ6SQ0GC6LKAA  B00NWI1ABU       618630895   \n",
              "99997          US     43123576  R39IE00T0IE8PO  B00NY6OLCK       470651858   \n",
              "99998          US     23942608  R3LQCXOI3IU42L  B00C6OGKNY        44750145   \n",
              "99999          US     37398889  R16MA6HT8RPTML  B003MLFO6Y       671396531   \n",
              "\n",
              "                                           product_title product_category  \\\n",
              "0                       Epson Premium Photo Paper GLOSSY  Office Products   \n",
              "1      iMBAPrice USB 2.0 Printer and Scanner Cable fo...  Office Products   \n",
              "2      Generic  5 Pack (3 Black & 2 Color) Compatible...  Office Products   \n",
              "3      Brother PC-201 Ink Cartridge - Black - Retail ...  Office Products   \n",
              "4      Package of Three Canon P23-DH V Calculator Ink...  Office Products   \n",
              "...                                                  ...              ...   \n",
              "99995  D@J 4-Pack Full-Set fits Brother LC51 LC 51 In...  Office Products   \n",
              "99996  NEWSTYLE Universal 9-10 Inch Tablet Portfolio ...  Office Products   \n",
              "99997  E-Z Ink (TM) Compatible Toner TN660 TN630 High...  Office Products   \n",
              "99998      Levenger Circa Leather iPad Foldover Notebook  Office Products   \n",
              "99999  Awesometoner 2-Pack (BLACK Only) DELL Remanufa...  Office Products   \n",
              "\n",
              "      star_rating  helpful_votes  total_votes vine verified_purchase  \\\n",
              "0               5            0.0          0.0    N                 Y   \n",
              "1               5            0.0          0.0    N                 Y   \n",
              "2               5            0.0          0.0    N                 Y   \n",
              "3               5            0.0          0.0    N                 Y   \n",
              "4               4            0.0          0.0    N                 Y   \n",
              "...           ...            ...          ...  ...               ...   \n",
              "99995           1            0.0          0.0    N                 Y   \n",
              "99996           1            0.0          0.0    N                 Y   \n",
              "99997           1           14.0         18.0    N                 Y   \n",
              "99998           1            0.0          0.0    N                 N   \n",
              "99999           1            0.0          0.0    N                 Y   \n",
              "\n",
              "                                         review_headline  \\\n",
              "0      Epson Premium Photo Paper GLOSSY (8.5x11 Inche...   \n",
              "1                                             Five Stars   \n",
              "2                                             Five Stars   \n",
              "3                                             Five Stars   \n",
              "4                                             Four Stars   \n",
              "...                                                  ...   \n",
              "99995                               so I wasted my money   \n",
              "99996  The logitech keyboard I have is better than th...   \n",
              "99997                                 Didn't work at all   \n",
              "99998  I was not satisfied with this binder due to th...   \n",
              "99999                                           One Star   \n",
              "\n",
              "                                             review_body review_date sentiment  \n",
              "0                  always the best for my photo  printer  2014-11-16         1  \n",
              "1                                     just what i needed  2014-11-06         1  \n",
              "2                                          great savings  2015-02-09         1  \n",
              "3                                                perfect  2014-07-10         1  \n",
              "4        good product and received it in a timely manner  2015-04-01         1  \n",
              "...                                                  ...         ...       ...  \n",
              "99995  the black cartridge fits other colors are not ...  2015-05-27         0  \n",
              "99996  im disappointed because i havent had this prod...  2015-04-17         0  \n",
              "99997  price is right but unfortunately it doesnt wor...  2015-07-01         0  \n",
              "99998  i was not satisfied with this binder due to th...  2014-10-16         0  \n",
              "99999                                didnt fit my copier  2015-01-05         0  \n",
              "\n",
              "[100000 rows x 16 columns]"
            ],
            "text/html": [
              "\n",
              "  <div id=\"df-ea47d057-92af-44e8-a445-ed415d877673\" class=\"colab-df-container\">\n",
              "    <div>\n",
              "<style scoped>\n",
              "    .dataframe tbody tr th:only-of-type {\n",
              "        vertical-align: middle;\n",
              "    }\n",
              "\n",
              "    .dataframe tbody tr th {\n",
              "        vertical-align: top;\n",
              "    }\n",
              "\n",
              "    .dataframe thead th {\n",
              "        text-align: right;\n",
              "    }\n",
              "</style>\n",
              "<table border=\"1\" class=\"dataframe\">\n",
              "  <thead>\n",
              "    <tr style=\"text-align: right;\">\n",
              "      <th></th>\n",
              "      <th>marketplace</th>\n",
              "      <th>customer_id</th>\n",
              "      <th>review_id</th>\n",
              "      <th>product_id</th>\n",
              "      <th>product_parent</th>\n",
              "      <th>product_title</th>\n",
              "      <th>product_category</th>\n",
              "      <th>star_rating</th>\n",
              "      <th>helpful_votes</th>\n",
              "      <th>total_votes</th>\n",
              "      <th>vine</th>\n",
              "      <th>verified_purchase</th>\n",
              "      <th>review_headline</th>\n",
              "      <th>review_body</th>\n",
              "      <th>review_date</th>\n",
              "      <th>sentiment</th>\n",
              "    </tr>\n",
              "  </thead>\n",
              "  <tbody>\n",
              "    <tr>\n",
              "      <th>0</th>\n",
              "      <td>US</td>\n",
              "      <td>18476273</td>\n",
              "      <td>R2HEJ8GNO1J41R</td>\n",
              "      <td>B00006IRUC</td>\n",
              "      <td>136362376</td>\n",
              "      <td>Epson Premium Photo Paper GLOSSY</td>\n",
              "      <td>Office Products</td>\n",
              "      <td>5</td>\n",
              "      <td>0.0</td>\n",
              "      <td>0.0</td>\n",
              "      <td>N</td>\n",
              "      <td>Y</td>\n",
              "      <td>Epson Premium Photo Paper GLOSSY (8.5x11 Inche...</td>\n",
              "      <td>always the best for my photo  printer</td>\n",
              "      <td>2014-11-16</td>\n",
              "      <td>1</td>\n",
              "    </tr>\n",
              "    <tr>\n",
              "      <th>1</th>\n",
              "      <td>US</td>\n",
              "      <td>858386</td>\n",
              "      <td>R11DAO5QBXB8MH</td>\n",
              "      <td>B00HYO512C</td>\n",
              "      <td>616641385</td>\n",
              "      <td>iMBAPrice USB 2.0 Printer and Scanner Cable fo...</td>\n",
              "      <td>Office Products</td>\n",
              "      <td>5</td>\n",
              "      <td>0.0</td>\n",
              "      <td>0.0</td>\n",
              "      <td>N</td>\n",
              "      <td>Y</td>\n",
              "      <td>Five Stars</td>\n",
              "      <td>just what i needed</td>\n",
              "      <td>2014-11-06</td>\n",
              "      <td>1</td>\n",
              "    </tr>\n",
              "    <tr>\n",
              "      <th>2</th>\n",
              "      <td>US</td>\n",
              "      <td>45996110</td>\n",
              "      <td>R2U6DL71MUODTR</td>\n",
              "      <td>B00LEA8X6S</td>\n",
              "      <td>214113984</td>\n",
              "      <td>Generic  5 Pack (3 Black &amp; 2 Color) Compatible...</td>\n",
              "      <td>Office Products</td>\n",
              "      <td>5</td>\n",
              "      <td>0.0</td>\n",
              "      <td>0.0</td>\n",
              "      <td>N</td>\n",
              "      <td>Y</td>\n",
              "      <td>Five Stars</td>\n",
              "      <td>great savings</td>\n",
              "      <td>2015-02-09</td>\n",
              "      <td>1</td>\n",
              "    </tr>\n",
              "    <tr>\n",
              "      <th>3</th>\n",
              "      <td>US</td>\n",
              "      <td>30295038</td>\n",
              "      <td>R3EMH6RFDQPLGX</td>\n",
              "      <td>B00000J19R</td>\n",
              "      <td>354661798</td>\n",
              "      <td>Brother PC-201 Ink Cartridge - Black - Retail ...</td>\n",
              "      <td>Office Products</td>\n",
              "      <td>5</td>\n",
              "      <td>0.0</td>\n",
              "      <td>0.0</td>\n",
              "      <td>N</td>\n",
              "      <td>Y</td>\n",
              "      <td>Five Stars</td>\n",
              "      <td>perfect</td>\n",
              "      <td>2014-07-10</td>\n",
              "      <td>1</td>\n",
              "    </tr>\n",
              "    <tr>\n",
              "      <th>4</th>\n",
              "      <td>US</td>\n",
              "      <td>336150</td>\n",
              "      <td>R1T8N0H6VRZI3A</td>\n",
              "      <td>B00CHC5Y3W</td>\n",
              "      <td>406646024</td>\n",
              "      <td>Package of Three Canon P23-DH V Calculator Ink...</td>\n",
              "      <td>Office Products</td>\n",
              "      <td>4</td>\n",
              "      <td>0.0</td>\n",
              "      <td>0.0</td>\n",
              "      <td>N</td>\n",
              "      <td>Y</td>\n",
              "      <td>Four Stars</td>\n",
              "      <td>good product and received it in a timely manner</td>\n",
              "      <td>2015-04-01</td>\n",
              "      <td>1</td>\n",
              "    </tr>\n",
              "    <tr>\n",
              "      <th>...</th>\n",
              "      <td>...</td>\n",
              "      <td>...</td>\n",
              "      <td>...</td>\n",
              "      <td>...</td>\n",
              "      <td>...</td>\n",
              "      <td>...</td>\n",
              "      <td>...</td>\n",
              "      <td>...</td>\n",
              "      <td>...</td>\n",
              "      <td>...</td>\n",
              "      <td>...</td>\n",
              "      <td>...</td>\n",
              "      <td>...</td>\n",
              "      <td>...</td>\n",
              "      <td>...</td>\n",
              "      <td>...</td>\n",
              "    </tr>\n",
              "    <tr>\n",
              "      <th>99995</th>\n",
              "      <td>US</td>\n",
              "      <td>43528115</td>\n",
              "      <td>R2RL1F9WNWIFV7</td>\n",
              "      <td>B004AGQ8LK</td>\n",
              "      <td>80677933</td>\n",
              "      <td>D@J 4-Pack Full-Set fits Brother LC51 LC 51 In...</td>\n",
              "      <td>Office Products</td>\n",
              "      <td>1</td>\n",
              "      <td>0.0</td>\n",
              "      <td>0.0</td>\n",
              "      <td>N</td>\n",
              "      <td>Y</td>\n",
              "      <td>so I wasted my money</td>\n",
              "      <td>the black cartridge fits other colors are not ...</td>\n",
              "      <td>2015-05-27</td>\n",
              "      <td>0</td>\n",
              "    </tr>\n",
              "    <tr>\n",
              "      <th>99996</th>\n",
              "      <td>US</td>\n",
              "      <td>50472709</td>\n",
              "      <td>RQ6SQ0GC6LKAA</td>\n",
              "      <td>B00NWI1ABU</td>\n",
              "      <td>618630895</td>\n",
              "      <td>NEWSTYLE Universal 9-10 Inch Tablet Portfolio ...</td>\n",
              "      <td>Office Products</td>\n",
              "      <td>1</td>\n",
              "      <td>0.0</td>\n",
              "      <td>0.0</td>\n",
              "      <td>N</td>\n",
              "      <td>Y</td>\n",
              "      <td>The logitech keyboard I have is better than th...</td>\n",
              "      <td>im disappointed because i havent had this prod...</td>\n",
              "      <td>2015-04-17</td>\n",
              "      <td>0</td>\n",
              "    </tr>\n",
              "    <tr>\n",
              "      <th>99997</th>\n",
              "      <td>US</td>\n",
              "      <td>43123576</td>\n",
              "      <td>R39IE00T0IE8PO</td>\n",
              "      <td>B00NY6OLCK</td>\n",
              "      <td>470651858</td>\n",
              "      <td>E-Z Ink (TM) Compatible Toner TN660 TN630 High...</td>\n",
              "      <td>Office Products</td>\n",
              "      <td>1</td>\n",
              "      <td>14.0</td>\n",
              "      <td>18.0</td>\n",
              "      <td>N</td>\n",
              "      <td>Y</td>\n",
              "      <td>Didn't work at all</td>\n",
              "      <td>price is right but unfortunately it doesnt wor...</td>\n",
              "      <td>2015-07-01</td>\n",
              "      <td>0</td>\n",
              "    </tr>\n",
              "    <tr>\n",
              "      <th>99998</th>\n",
              "      <td>US</td>\n",
              "      <td>23942608</td>\n",
              "      <td>R3LQCXOI3IU42L</td>\n",
              "      <td>B00C6OGKNY</td>\n",
              "      <td>44750145</td>\n",
              "      <td>Levenger Circa Leather iPad Foldover Notebook</td>\n",
              "      <td>Office Products</td>\n",
              "      <td>1</td>\n",
              "      <td>0.0</td>\n",
              "      <td>0.0</td>\n",
              "      <td>N</td>\n",
              "      <td>N</td>\n",
              "      <td>I was not satisfied with this binder due to th...</td>\n",
              "      <td>i was not satisfied with this binder due to th...</td>\n",
              "      <td>2014-10-16</td>\n",
              "      <td>0</td>\n",
              "    </tr>\n",
              "    <tr>\n",
              "      <th>99999</th>\n",
              "      <td>US</td>\n",
              "      <td>37398889</td>\n",
              "      <td>R16MA6HT8RPTML</td>\n",
              "      <td>B003MLFO6Y</td>\n",
              "      <td>671396531</td>\n",
              "      <td>Awesometoner 2-Pack (BLACK Only) DELL Remanufa...</td>\n",
              "      <td>Office Products</td>\n",
              "      <td>1</td>\n",
              "      <td>0.0</td>\n",
              "      <td>0.0</td>\n",
              "      <td>N</td>\n",
              "      <td>Y</td>\n",
              "      <td>One Star</td>\n",
              "      <td>didnt fit my copier</td>\n",
              "      <td>2015-01-05</td>\n",
              "      <td>0</td>\n",
              "    </tr>\n",
              "  </tbody>\n",
              "</table>\n",
              "<p>100000 rows × 16 columns</p>\n",
              "</div>\n",
              "    <div class=\"colab-df-buttons\">\n",
              "\n",
              "  <div class=\"colab-df-container\">\n",
              "    <button class=\"colab-df-convert\" onclick=\"convertToInteractive('df-ea47d057-92af-44e8-a445-ed415d877673')\"\n",
              "            title=\"Convert this dataframe to an interactive table.\"\n",
              "            style=\"display:none;\">\n",
              "\n",
              "  <svg xmlns=\"http://www.w3.org/2000/svg\" height=\"24px\" viewBox=\"0 -960 960 960\">\n",
              "    <path d=\"M120-120v-720h720v720H120Zm60-500h600v-160H180v160Zm220 220h160v-160H400v160Zm0 220h160v-160H400v160ZM180-400h160v-160H180v160Zm440 0h160v-160H620v160ZM180-180h160v-160H180v160Zm440 0h160v-160H620v160Z\"/>\n",
              "  </svg>\n",
              "    </button>\n",
              "\n",
              "  <style>\n",
              "    .colab-df-container {\n",
              "      display:flex;\n",
              "      gap: 12px;\n",
              "    }\n",
              "\n",
              "    .colab-df-convert {\n",
              "      background-color: #E8F0FE;\n",
              "      border: none;\n",
              "      border-radius: 50%;\n",
              "      cursor: pointer;\n",
              "      display: none;\n",
              "      fill: #1967D2;\n",
              "      height: 32px;\n",
              "      padding: 0 0 0 0;\n",
              "      width: 32px;\n",
              "    }\n",
              "\n",
              "    .colab-df-convert:hover {\n",
              "      background-color: #E2EBFA;\n",
              "      box-shadow: 0px 1px 2px rgba(60, 64, 67, 0.3), 0px 1px 3px 1px rgba(60, 64, 67, 0.15);\n",
              "      fill: #174EA6;\n",
              "    }\n",
              "\n",
              "    .colab-df-buttons div {\n",
              "      margin-bottom: 4px;\n",
              "    }\n",
              "\n",
              "    [theme=dark] .colab-df-convert {\n",
              "      background-color: #3B4455;\n",
              "      fill: #D2E3FC;\n",
              "    }\n",
              "\n",
              "    [theme=dark] .colab-df-convert:hover {\n",
              "      background-color: #434B5C;\n",
              "      box-shadow: 0px 1px 3px 1px rgba(0, 0, 0, 0.15);\n",
              "      filter: drop-shadow(0px 1px 2px rgba(0, 0, 0, 0.3));\n",
              "      fill: #FFFFFF;\n",
              "    }\n",
              "  </style>\n",
              "\n",
              "    <script>\n",
              "      const buttonEl =\n",
              "        document.querySelector('#df-ea47d057-92af-44e8-a445-ed415d877673 button.colab-df-convert');\n",
              "      buttonEl.style.display =\n",
              "        google.colab.kernel.accessAllowed ? 'block' : 'none';\n",
              "\n",
              "      async function convertToInteractive(key) {\n",
              "        const element = document.querySelector('#df-ea47d057-92af-44e8-a445-ed415d877673');\n",
              "        const dataTable =\n",
              "          await google.colab.kernel.invokeFunction('convertToInteractive',\n",
              "                                                    [key], {});\n",
              "        if (!dataTable) return;\n",
              "\n",
              "        const docLinkHtml = 'Like what you see? Visit the ' +\n",
              "          '<a target=\"_blank\" href=https://colab.research.google.com/notebooks/data_table.ipynb>data table notebook</a>'\n",
              "          + ' to learn more about interactive tables.';\n",
              "        element.innerHTML = '';\n",
              "        dataTable['output_type'] = 'display_data';\n",
              "        await google.colab.output.renderOutput(dataTable, element);\n",
              "        const docLink = document.createElement('div');\n",
              "        docLink.innerHTML = docLinkHtml;\n",
              "        element.appendChild(docLink);\n",
              "      }\n",
              "    </script>\n",
              "  </div>\n",
              "\n",
              "\n",
              "<div id=\"df-68d33213-35d1-4d4e-b4b5-ae8b21b564e1\">\n",
              "  <button class=\"colab-df-quickchart\" onclick=\"quickchart('df-68d33213-35d1-4d4e-b4b5-ae8b21b564e1')\"\n",
              "            title=\"Suggest charts.\"\n",
              "            style=\"display:none;\">\n",
              "\n",
              "<svg xmlns=\"http://www.w3.org/2000/svg\" height=\"24px\"viewBox=\"0 0 24 24\"\n",
              "     width=\"24px\">\n",
              "    <g>\n",
              "        <path d=\"M19 3H5c-1.1 0-2 .9-2 2v14c0 1.1.9 2 2 2h14c1.1 0 2-.9 2-2V5c0-1.1-.9-2-2-2zM9 17H7v-7h2v7zm4 0h-2V7h2v10zm4 0h-2v-4h2v4z\"/>\n",
              "    </g>\n",
              "</svg>\n",
              "  </button>\n",
              "\n",
              "<style>\n",
              "  .colab-df-quickchart {\n",
              "      --bg-color: #E8F0FE;\n",
              "      --fill-color: #1967D2;\n",
              "      --hover-bg-color: #E2EBFA;\n",
              "      --hover-fill-color: #174EA6;\n",
              "      --disabled-fill-color: #AAA;\n",
              "      --disabled-bg-color: #DDD;\n",
              "  }\n",
              "\n",
              "  [theme=dark] .colab-df-quickchart {\n",
              "      --bg-color: #3B4455;\n",
              "      --fill-color: #D2E3FC;\n",
              "      --hover-bg-color: #434B5C;\n",
              "      --hover-fill-color: #FFFFFF;\n",
              "      --disabled-bg-color: #3B4455;\n",
              "      --disabled-fill-color: #666;\n",
              "  }\n",
              "\n",
              "  .colab-df-quickchart {\n",
              "    background-color: var(--bg-color);\n",
              "    border: none;\n",
              "    border-radius: 50%;\n",
              "    cursor: pointer;\n",
              "    display: none;\n",
              "    fill: var(--fill-color);\n",
              "    height: 32px;\n",
              "    padding: 0;\n",
              "    width: 32px;\n",
              "  }\n",
              "\n",
              "  .colab-df-quickchart:hover {\n",
              "    background-color: var(--hover-bg-color);\n",
              "    box-shadow: 0 1px 2px rgba(60, 64, 67, 0.3), 0 1px 3px 1px rgba(60, 64, 67, 0.15);\n",
              "    fill: var(--button-hover-fill-color);\n",
              "  }\n",
              "\n",
              "  .colab-df-quickchart-complete:disabled,\n",
              "  .colab-df-quickchart-complete:disabled:hover {\n",
              "    background-color: var(--disabled-bg-color);\n",
              "    fill: var(--disabled-fill-color);\n",
              "    box-shadow: none;\n",
              "  }\n",
              "\n",
              "  .colab-df-spinner {\n",
              "    border: 2px solid var(--fill-color);\n",
              "    border-color: transparent;\n",
              "    border-bottom-color: var(--fill-color);\n",
              "    animation:\n",
              "      spin 1s steps(1) infinite;\n",
              "  }\n",
              "\n",
              "  @keyframes spin {\n",
              "    0% {\n",
              "      border-color: transparent;\n",
              "      border-bottom-color: var(--fill-color);\n",
              "      border-left-color: var(--fill-color);\n",
              "    }\n",
              "    20% {\n",
              "      border-color: transparent;\n",
              "      border-left-color: var(--fill-color);\n",
              "      border-top-color: var(--fill-color);\n",
              "    }\n",
              "    30% {\n",
              "      border-color: transparent;\n",
              "      border-left-color: var(--fill-color);\n",
              "      border-top-color: var(--fill-color);\n",
              "      border-right-color: var(--fill-color);\n",
              "    }\n",
              "    40% {\n",
              "      border-color: transparent;\n",
              "      border-right-color: var(--fill-color);\n",
              "      border-top-color: var(--fill-color);\n",
              "    }\n",
              "    60% {\n",
              "      border-color: transparent;\n",
              "      border-right-color: var(--fill-color);\n",
              "    }\n",
              "    80% {\n",
              "      border-color: transparent;\n",
              "      border-right-color: var(--fill-color);\n",
              "      border-bottom-color: var(--fill-color);\n",
              "    }\n",
              "    90% {\n",
              "      border-color: transparent;\n",
              "      border-bottom-color: var(--fill-color);\n",
              "    }\n",
              "  }\n",
              "</style>\n",
              "\n",
              "  <script>\n",
              "    async function quickchart(key) {\n",
              "      const quickchartButtonEl =\n",
              "        document.querySelector('#' + key + ' button');\n",
              "      quickchartButtonEl.disabled = true;  // To prevent multiple clicks.\n",
              "      quickchartButtonEl.classList.add('colab-df-spinner');\n",
              "      try {\n",
              "        const charts = await google.colab.kernel.invokeFunction(\n",
              "            'suggestCharts', [key], {});\n",
              "      } catch (error) {\n",
              "        console.error('Error during call to suggestCharts:', error);\n",
              "      }\n",
              "      quickchartButtonEl.classList.remove('colab-df-spinner');\n",
              "      quickchartButtonEl.classList.add('colab-df-quickchart-complete');\n",
              "    }\n",
              "    (() => {\n",
              "      let quickchartButtonEl =\n",
              "        document.querySelector('#df-68d33213-35d1-4d4e-b4b5-ae8b21b564e1 button');\n",
              "      quickchartButtonEl.style.display =\n",
              "        google.colab.kernel.accessAllowed ? 'block' : 'none';\n",
              "    })();\n",
              "  </script>\n",
              "</div>\n",
              "    </div>\n",
              "  </div>\n"
            ]
          },
          "metadata": {},
          "execution_count": 14
        }
      ]
    },
    {
      "cell_type": "markdown",
      "source": [
        "### Word embeddings"
      ],
      "metadata": {
        "id": "dO9rcazvW6eR"
      }
    },
    {
      "cell_type": "markdown",
      "source": [
        "Generating Word2Vec features for\n",
        "the dataset. Gensim library is used for this purpose."
      ],
      "metadata": {
        "id": "VFpFXBb4K22Q"
      }
    },
    {
      "cell_type": "code",
      "source": [
        "import gensim.downloader as api\n",
        "w2v = api.load('word2vec-google-news-300')\n"
      ],
      "metadata": {
        "colab": {
          "base_uri": "https://localhost:8080/",
          "height": 0
        },
        "id": "2kQhg5ZvOzA8",
        "outputId": "b20d5be4-6819-44eb-880a-e2c9974ee0b5"
      },
      "execution_count": 10,
      "outputs": [
        {
          "output_type": "stream",
          "name": "stdout",
          "text": [
            "[==================================================] 100.0% 1662.8/1662.8MB downloaded\n"
          ]
        }
      ]
    },
    {
      "cell_type": "code",
      "source": [
        "for index, word in enumerate(w2v.index_to_key):\n",
        "    if index == 10:\n",
        "        break\n",
        "    print(f\"word #{index}/{len(w2v.index_to_key)} is {word}\")"
      ],
      "metadata": {
        "colab": {
          "base_uri": "https://localhost:8080/",
          "height": 0
        },
        "id": "nlzf_vgrbVk_",
        "outputId": "89f78fed-19f7-4750-c6e9-32aaafb64aca"
      },
      "execution_count": 12,
      "outputs": [
        {
          "output_type": "stream",
          "name": "stdout",
          "text": [
            "word #0/3000000 is </s>\n",
            "word #1/3000000 is in\n",
            "word #2/3000000 is for\n",
            "word #3/3000000 is that\n",
            "word #4/3000000 is is\n",
            "word #5/3000000 is on\n",
            "word #6/3000000 is ##\n",
            "word #7/3000000 is The\n",
            "word #8/3000000 is with\n",
            "word #9/3000000 is said\n"
          ]
        }
      ]
    },
    {
      "cell_type": "code",
      "source": [
        "vec_king = w2v['king']\n",
        "print(vec_king)"
      ],
      "metadata": {
        "colab": {
          "base_uri": "https://localhost:8080/",
          "height": 0
        },
        "id": "E5SAjH89k3jc",
        "outputId": "256cd458-73b4-4826-fd4c-e4738467ed56"
      },
      "execution_count": 13,
      "outputs": [
        {
          "output_type": "stream",
          "name": "stdout",
          "text": [
            "[ 1.25976562e-01  2.97851562e-02  8.60595703e-03  1.39648438e-01\n",
            " -2.56347656e-02 -3.61328125e-02  1.11816406e-01 -1.98242188e-01\n",
            "  5.12695312e-02  3.63281250e-01 -2.42187500e-01 -3.02734375e-01\n",
            " -1.77734375e-01 -2.49023438e-02 -1.67968750e-01 -1.69921875e-01\n",
            "  3.46679688e-02  5.21850586e-03  4.63867188e-02  1.28906250e-01\n",
            "  1.36718750e-01  1.12792969e-01  5.95703125e-02  1.36718750e-01\n",
            "  1.01074219e-01 -1.76757812e-01 -2.51953125e-01  5.98144531e-02\n",
            "  3.41796875e-01 -3.11279297e-02  1.04492188e-01  6.17675781e-02\n",
            "  1.24511719e-01  4.00390625e-01 -3.22265625e-01  8.39843750e-02\n",
            "  3.90625000e-02  5.85937500e-03  7.03125000e-02  1.72851562e-01\n",
            "  1.38671875e-01 -2.31445312e-01  2.83203125e-01  1.42578125e-01\n",
            "  3.41796875e-01 -2.39257812e-02 -1.09863281e-01  3.32031250e-02\n",
            " -5.46875000e-02  1.53198242e-02 -1.62109375e-01  1.58203125e-01\n",
            " -2.59765625e-01  2.01416016e-02 -1.63085938e-01  1.35803223e-03\n",
            " -1.44531250e-01 -5.68847656e-02  4.29687500e-02 -2.46582031e-02\n",
            "  1.85546875e-01  4.47265625e-01  9.58251953e-03  1.31835938e-01\n",
            "  9.86328125e-02 -1.85546875e-01 -1.00097656e-01 -1.33789062e-01\n",
            " -1.25000000e-01  2.83203125e-01  1.23046875e-01  5.32226562e-02\n",
            " -1.77734375e-01  8.59375000e-02 -2.18505859e-02  2.05078125e-02\n",
            " -1.39648438e-01  2.51464844e-02  1.38671875e-01 -1.05468750e-01\n",
            "  1.38671875e-01  8.88671875e-02 -7.51953125e-02 -2.13623047e-02\n",
            "  1.72851562e-01  4.63867188e-02 -2.65625000e-01  8.91113281e-03\n",
            "  1.49414062e-01  3.78417969e-02  2.38281250e-01 -1.24511719e-01\n",
            " -2.17773438e-01 -1.81640625e-01  2.97851562e-02  5.71289062e-02\n",
            " -2.89306641e-02  1.24511719e-02  9.66796875e-02 -2.31445312e-01\n",
            "  5.81054688e-02  6.68945312e-02  7.08007812e-02 -3.08593750e-01\n",
            " -2.14843750e-01  1.45507812e-01 -4.27734375e-01 -9.39941406e-03\n",
            "  1.54296875e-01 -7.66601562e-02  2.89062500e-01  2.77343750e-01\n",
            " -4.86373901e-04 -1.36718750e-01  3.24218750e-01 -2.46093750e-01\n",
            " -3.03649902e-03 -2.11914062e-01  1.25000000e-01  2.69531250e-01\n",
            "  2.04101562e-01  8.25195312e-02 -2.01171875e-01 -1.60156250e-01\n",
            " -3.78417969e-02 -1.20117188e-01  1.15234375e-01 -4.10156250e-02\n",
            " -3.95507812e-02 -8.98437500e-02  6.34765625e-03  2.03125000e-01\n",
            "  1.86523438e-01  2.73437500e-01  6.29882812e-02  1.41601562e-01\n",
            " -9.81445312e-02  1.38671875e-01  1.82617188e-01  1.73828125e-01\n",
            "  1.73828125e-01 -2.37304688e-01  1.78710938e-01  6.34765625e-02\n",
            "  2.36328125e-01 -2.08984375e-01  8.74023438e-02 -1.66015625e-01\n",
            " -7.91015625e-02  2.43164062e-01 -8.88671875e-02  1.26953125e-01\n",
            " -2.16796875e-01 -1.73828125e-01 -3.59375000e-01 -8.25195312e-02\n",
            " -6.49414062e-02  5.07812500e-02  1.35742188e-01 -7.47070312e-02\n",
            " -1.64062500e-01  1.15356445e-02  4.45312500e-01 -2.15820312e-01\n",
            " -1.11328125e-01 -1.92382812e-01  1.70898438e-01 -1.25000000e-01\n",
            "  2.65502930e-03  1.92382812e-01 -1.74804688e-01  1.39648438e-01\n",
            "  2.92968750e-01  1.13281250e-01  5.95703125e-02 -6.39648438e-02\n",
            "  9.96093750e-02 -2.72216797e-02  1.96533203e-02  4.27246094e-02\n",
            " -2.46093750e-01  6.39648438e-02 -2.25585938e-01 -1.68945312e-01\n",
            "  2.89916992e-03  8.20312500e-02  3.41796875e-01  4.32128906e-02\n",
            "  1.32812500e-01  1.42578125e-01  7.61718750e-02  5.98144531e-02\n",
            " -1.19140625e-01  2.74658203e-03 -6.29882812e-02 -2.72216797e-02\n",
            " -4.82177734e-03 -8.20312500e-02 -2.49023438e-02 -4.00390625e-01\n",
            " -1.06933594e-01  4.24804688e-02  7.76367188e-02 -1.16699219e-01\n",
            "  7.37304688e-02 -9.22851562e-02  1.07910156e-01  1.58203125e-01\n",
            "  4.24804688e-02  1.26953125e-01  3.61328125e-02  2.67578125e-01\n",
            " -1.01074219e-01 -3.02734375e-01 -5.76171875e-02  5.05371094e-02\n",
            "  5.26428223e-04 -2.07031250e-01 -1.38671875e-01 -8.97216797e-03\n",
            " -2.78320312e-02 -1.41601562e-01  2.07031250e-01 -1.58203125e-01\n",
            "  1.27929688e-01  1.49414062e-01 -2.24609375e-02 -8.44726562e-02\n",
            "  1.22558594e-01  2.15820312e-01 -2.13867188e-01 -3.12500000e-01\n",
            " -3.73046875e-01  4.08935547e-03  1.07421875e-01  1.06933594e-01\n",
            "  7.32421875e-02  8.97216797e-03 -3.88183594e-02 -1.29882812e-01\n",
            "  1.49414062e-01 -2.14843750e-01 -1.83868408e-03  9.91210938e-02\n",
            "  1.57226562e-01 -1.14257812e-01 -2.05078125e-01  9.91210938e-02\n",
            "  3.69140625e-01 -1.97265625e-01  3.54003906e-02  1.09375000e-01\n",
            "  1.31835938e-01  1.66992188e-01  2.35351562e-01  1.04980469e-01\n",
            " -4.96093750e-01 -1.64062500e-01 -1.56250000e-01 -5.22460938e-02\n",
            "  1.03027344e-01  2.43164062e-01 -1.88476562e-01  5.07812500e-02\n",
            " -9.37500000e-02 -6.68945312e-02  2.27050781e-02  7.61718750e-02\n",
            "  2.89062500e-01  3.10546875e-01 -5.37109375e-02  2.28515625e-01\n",
            "  2.51464844e-02  6.78710938e-02 -1.21093750e-01 -2.15820312e-01\n",
            " -2.73437500e-01 -3.07617188e-02 -3.37890625e-01  1.53320312e-01\n",
            "  2.33398438e-01 -2.08007812e-01  3.73046875e-01  8.20312500e-02\n",
            "  2.51953125e-01 -7.61718750e-02 -4.66308594e-02 -2.23388672e-02\n",
            "  2.99072266e-02 -5.93261719e-02 -4.66918945e-03 -2.44140625e-01\n",
            " -2.09960938e-01 -2.87109375e-01 -4.54101562e-02 -1.77734375e-01\n",
            " -2.79296875e-01 -8.59375000e-02  9.13085938e-02  2.51953125e-01]\n"
          ]
        }
      ]
    },
    {
      "cell_type": "code",
      "source": [
        "# to experiment and check w2v\n",
        "pairs = [\n",
        "    ('car', 'minivan'),\n",
        "    ('car', 'bike'),\n",
        "    ('car', 'airplane'),\n",
        "    ('car', 'cereal'),\n",
        "    ('car', 'communism'),\n",
        "]\n",
        "for w1, w2 in pairs:\n",
        "    print('%r\\t%r\\t%.2f' % (w1, w2, w2v.similarity(w1, w2)))"
      ],
      "metadata": {
        "colab": {
          "base_uri": "https://localhost:8080/",
          "height": 0
        },
        "id": "68wWQ8p0k3gH",
        "outputId": "d1cc8fae-a0a4-440b-a514-4be8b671f9e2"
      },
      "execution_count": 14,
      "outputs": [
        {
          "output_type": "stream",
          "name": "stdout",
          "text": [
            "'car'\t'minivan'\t0.69\n",
            "'car'\t'bike'\t0.59\n",
            "'car'\t'airplane'\t0.42\n",
            "'car'\t'cereal'\t0.14\n",
            "'car'\t'communism'\t0.06\n"
          ]
        }
      ]
    },
    {
      "cell_type": "code",
      "source": [
        "result_pretrained1 = w2v.most_similar(positive=['king', 'woman'], negative=['man'], topn=1)\n",
        "result_pretrained2 = w2v.most_similar(positive=['excellent'], negative=['outstanding'], topn=1)\n",
        "\n",
        "print(f\"Pre-trained Model - King - Man + Woman = {result_pretrained1[0][0]}\")\n",
        "print(f\"Pre-trained Model - Excellent ~ Outstanding = {result_pretrained2[0][0]}\")\n"
      ],
      "metadata": {
        "colab": {
          "base_uri": "https://localhost:8080/",
          "height": 0
        },
        "id": "iLTLmMErk3ca",
        "outputId": "dcf81e28-dbae-4add-8849-21d38eb957d4"
      },
      "execution_count": 15,
      "outputs": [
        {
          "output_type": "stream",
          "name": "stdout",
          "text": [
            "Pre-trained Model - King - Man + Woman = queen\n",
            "Pre-trained Model - Excellent ~ Outstanding = ideal\n"
          ]
        }
      ]
    },
    {
      "cell_type": "code",
      "source": [
        "result_analogy = w2v.most_similar(positive=['pigeon', 'sedan'], negative=['car'], topn=1)\n",
        "\n",
        "# Print the result\n",
        "print(f\"Car is to Sedan as Pigeon is to {result_analogy[0][0]}\")"
      ],
      "metadata": {
        "colab": {
          "base_uri": "https://localhost:8080/",
          "height": 0
        },
        "id": "V4u1dSZNk3ZC",
        "outputId": "6b0574fe-b041-4f17-8559-3b469fefb279"
      },
      "execution_count": 20,
      "outputs": [
        {
          "output_type": "stream",
          "name": "stdout",
          "text": [
            "Car is to Sedan as Pigeon is to falcon\n"
          ]
        }
      ]
    },
    {
      "cell_type": "code",
      "source": [
        "result_analogy = w2v.most_similar(positive=['Summer', 'Cold'], negative=['Hot'])\n",
        "\n",
        "\n",
        "print(\"Similarity for 'Summer - Hot + Cold ':\", result_analogy[0][0])"
      ],
      "metadata": {
        "colab": {
          "base_uri": "https://localhost:8080/",
          "height": 0
        },
        "id": "rkGLCdgek3UF",
        "outputId": "87710cc3-9df6-41bc-8f77-741b57ca3338"
      },
      "execution_count": 34,
      "outputs": [
        {
          "output_type": "stream",
          "name": "stdout",
          "text": [
            "Similarity for 'Summer - Hot + Cold ': Winter\n"
          ]
        }
      ]
    },
    {
      "cell_type": "code",
      "source": [
        "\n",
        "result_an = w2v.most_similar(positive=['Japan', 'Pasta'], negative=['Sushi'])\n",
        "print(\"Similarity for 'Japan - Sushi + Pasta':\", result_an[0][0])\n"
      ],
      "metadata": {
        "colab": {
          "base_uri": "https://localhost:8080/",
          "height": 0
        },
        "id": "nkbufTSVXfdl",
        "outputId": "414a9773-36df-4a73-a7e2-9d7f488acbc6"
      },
      "execution_count": 36,
      "outputs": [
        {
          "output_type": "stream",
          "name": "stdout",
          "text": [
            "Similarity for 'Japan - Sushi + Pasta': Italy\n"
          ]
        }
      ]
    },
    {
      "cell_type": "markdown",
      "source": [
        "2b) training our own w2vec model"
      ],
      "metadata": {
        "id": "Gx7-Gf_wXr-_"
      }
    },
    {
      "cell_type": "code",
      "source": [
        "import gensim.downloader as api\n",
        "from gensim.models import Word2Vec\n",
        "from nltk.tokenize import word_tokenize\n",
        "from tqdm import tqdm\n",
        "import nltk\n",
        "nltk.download('punkt')"
      ],
      "metadata": {
        "colab": {
          "base_uri": "https://localhost:8080/",
          "height": 0
        },
        "id": "CGu51qH6rjBh",
        "outputId": "1de3af39-4b85-4e49-ad9c-f892bb7d74fd"
      },
      "execution_count": 37,
      "outputs": [
        {
          "output_type": "stream",
          "name": "stderr",
          "text": [
            "[nltk_data] Downloading package punkt to /root/nltk_data...\n",
            "[nltk_data]   Unzipping tokenizers/punkt.zip.\n"
          ]
        },
        {
          "output_type": "execute_result",
          "data": {
            "text/plain": [
              "True"
            ]
          },
          "metadata": {},
          "execution_count": 37
        }
      ]
    },
    {
      "cell_type": "code",
      "source": [
        "rev = [word_tokenize(review.lower()) for review in tqdm(sdf['review_body'])]\n",
        "\n",
        "# Define and train our own Word2Vec model - custom training\n",
        "embedding_size = 300\n",
        "window_size = 13\n",
        "min_word_count = 9\n",
        "\n",
        "w2vModelCustomTraining = Word2Vec(rev, vector_size=embedding_size, window=window_size, min_count=min_word_count, workers=4)\n"
      ],
      "metadata": {
        "colab": {
          "base_uri": "https://localhost:8080/",
          "height": 0
        },
        "id": "wL6VWvcCrTSJ",
        "outputId": "093967cf-03e6-43a8-eb15-35c3f459c41c"
      },
      "execution_count": 38,
      "outputs": [
        {
          "output_type": "stream",
          "name": "stderr",
          "text": [
            "100%|██████████| 100000/100000 [00:24<00:00, 4141.46it/s]\n"
          ]
        }
      ]
    },
    {
      "cell_type": "code",
      "source": [
        "custRes1 = w2vModelCustomTraining.wv.most_similar(positive=['king', 'woman'], negative=['man'], topn=1)\n",
        "custRes2 = w2vModelCustomTraining.wv.most_similar(positive=['excellent'], negative=['outstanding'], topn=1)\n",
        "\n",
        "print(f\"Pre-trained Model - King - Man + Woman = {custRes1[0][0]}\")\n",
        "print(f\"Pre-trained Model - Excellent ~ Outstanding = {custRes2[0][0]}\")\n"
      ],
      "metadata": {
        "colab": {
          "base_uri": "https://localhost:8080/",
          "height": 0
        },
        "id": "LgBAI7-WrTOl",
        "outputId": "cfc47be1-755c-4609-9f79-ded12b9e19cc"
      },
      "execution_count": 39,
      "outputs": [
        {
          "output_type": "stream",
          "name": "stdout",
          "text": [
            "Pre-trained Model - King - Man + Woman = et\n",
            "Pre-trained Model - Excellent ~ Outstanding = good\n"
          ]
        }
      ]
    },
    {
      "cell_type": "markdown",
      "source": [
        "It can be concluded that the pretrained weights are much better as they have a larger dataset and also, the data has different genre of data in the same. However our data is limited to amazon reviews"
      ],
      "metadata": {
        "id": "DRMm8iQmX4qp"
      }
    },
    {
      "cell_type": "code",
      "source": [],
      "metadata": {
        "id": "25ZxudhmrS6x"
      },
      "execution_count": null,
      "outputs": []
    },
    {
      "cell_type": "markdown",
      "source": [
        "3\n"
      ],
      "metadata": {
        "id": "9e90Oy7V-y3K"
      }
    },
    {
      "cell_type": "markdown",
      "source": [
        "Here we are using pretrained model to train perceptron and SVM Models. Average vector for each review is taken as the input\n",
        "\n",
        "We shall give the accuracy using word2Vec as well as tfidf representations"
      ],
      "metadata": {
        "id": "x5ZPtFoqYSiF"
      }
    },
    {
      "cell_type": "code",
      "source": [
        "import numpy as np\n",
        "from sklearn.model_selection import train_test_split\n",
        "from sklearn.linear_model import Perceptron\n",
        "from sklearn.svm import SVC\n",
        "from sklearn.metrics import accuracy_score\n",
        "from gensim.models import Word2Vec\n",
        "import gensim.downloader as api\n",
        "from sklearn.feature_extraction.text import TfidfVectorizer\n",
        "from sklearn.metrics import accuracy_score, f1_score, precision_score, recall_score\n",
        "from sklearn.linear_model import Perceptron"
      ],
      "metadata": {
        "id": "7RuaQJOXj4q6"
      },
      "execution_count": 40,
      "outputs": []
    },
    {
      "cell_type": "code",
      "source": [],
      "metadata": {
        "id": "-GQYRj1rj4nT"
      },
      "execution_count": 13,
      "outputs": []
    },
    {
      "cell_type": "code",
      "source": [
        "def calculate_average_vector(sentence, model):\n",
        "    vectors = [model[word] for word in sentence.split() if word in model]\n",
        "    if not vectors:\n",
        "        return np.zeros(300, dtype=np.float32)\n",
        "    return np.mean(vectors, axis=0)\n"
      ],
      "metadata": {
        "id": "aFJfCH8mj4jp"
      },
      "execution_count": 41,
      "outputs": []
    },
    {
      "cell_type": "code",
      "source": [
        "X_word2vec = [calculate_average_vector(review, w2v) for review in sdf['review_body']]\n",
        "y = sdf['sentiment']\n",
        "\n",
        "# Split the data\n",
        "X_train, X_test, y_train, y_test = train_test_split(X_word2vec, y, test_size=0.2, random_state=42)\n",
        "\n",
        "\n",
        "\n",
        "\n",
        "\n",
        "\n"
      ],
      "metadata": {
        "id": "PIeC4yOmj4ci"
      },
      "execution_count": 42,
      "outputs": []
    },
    {
      "cell_type": "code",
      "source": [
        "perceptron = Perceptron()\n",
        "\n",
        "perceptron.fit(X_train, y_train)\n",
        "y_pred = perceptron.predict(X_test)\n",
        "y_test_str = y_test\n",
        "y_pred_str = y_pred\n",
        "f1 = f1_score(y_test_str, y_pred_str, pos_label='1')\n",
        "precision = precision_score(y_test_str, y_pred_str, pos_label='1')\n",
        "recall = recall_score(y_test_str, y_pred_str, pos_label='1')\n",
        "accuracy = accuracy_score(y_test, y_pred)\n",
        "print(\"Perceptron Word2Vec \")\n",
        "print(f\"accuracy: {accuracy:.2f} F1-score: {f1:.2f} Precision: {precision:.2f} Recall: {recall:.2f}\")"
      ],
      "metadata": {
        "colab": {
          "base_uri": "https://localhost:8080/",
          "height": 0
        },
        "id": "PqsCyAAj7uoG",
        "outputId": "001288b8-ea03-436e-85bc-19b8660e599d"
      },
      "execution_count": 43,
      "outputs": [
        {
          "output_type": "stream",
          "name": "stdout",
          "text": [
            "Perceptron Word2Vec \n",
            "accuracy: 0.67 F1-score: 0.75 Precision: 0.61 Recall: 0.97\n"
          ]
        }
      ]
    },
    {
      "cell_type": "code",
      "source": [
        "X_text = sdf['review_body']\n",
        "y = sdf['sentiment']\n",
        "X_text_train, X_text_test, y_train, y_test = train_test_split(\n",
        "    X_text, y, test_size=0.2, random_state=42\n",
        ")\n",
        "# creating feature extraction of tfidf\n",
        "tfidf_vectorizer = TfidfVectorizer()\n",
        "X_train_tfidf = tfidf_vectorizer.fit_transform(X_text_train)\n",
        "X_test_tfidf = tfidf_vectorizer.transform(X_text_test)"
      ],
      "metadata": {
        "id": "shnllq9fY1Os"
      },
      "execution_count": 44,
      "outputs": []
    },
    {
      "cell_type": "code",
      "source": [
        "perceptron.fit(X_train_tfidf, y_train)\n",
        "y_pred_perceptron = perceptron.predict(X_test_tfidf)\n",
        "y_pred = perceptron.predict(X_test_tfidf)\n",
        "accuracy = accuracy_score(y_test, y_pred)\n",
        "\n",
        "print(\"Perceptron - TFIDF\")\n",
        "print(f\" accuracy: {accuracy:.2f}\")"
      ],
      "metadata": {
        "colab": {
          "base_uri": "https://localhost:8080/",
          "height": 0
        },
        "id": "IogdvAZeZIjD",
        "outputId": "e7e9c900-3dea-439c-b135-094a601a5e19"
      },
      "execution_count": 46,
      "outputs": [
        {
          "output_type": "stream",
          "name": "stdout",
          "text": [
            "Perceptron - TFIDF\n",
            " accuracy: 0.82\n"
          ]
        }
      ]
    },
    {
      "cell_type": "code",
      "source": [
        "from sklearn.svm import LinearSVC"
      ],
      "metadata": {
        "id": "ZYiaySrH83E7"
      },
      "execution_count": 47,
      "outputs": []
    },
    {
      "cell_type": "code",
      "source": [
        "linear_svc_classifier = LinearSVC()\n",
        "\n",
        "linear_svc_classifier.fit(X_train, y_train)\n",
        "y_pred = linear_svc_classifier.predict(X_test)\n",
        "y_test_str = y_test\n",
        "y_pred_str = y_pred\n",
        "\n",
        "f1 = f1_score(y_test_str, y_pred_str, pos_label='1')\n",
        "precision = precision_score(y_test_str, y_pred_str, pos_label='1')\n",
        "recall = recall_score(y_test_str, y_pred_str, pos_label='1')\n",
        "accuracy = accuracy_score(y_test_str, y_pred_str)\n",
        "print(\"SVM \")\n",
        "print(f\"accuracy: {accuracy:.2f} F1-score: {f1:.2f} Precision: {precision:.2f} Recall: {recall:.2f}\")"
      ],
      "metadata": {
        "colab": {
          "base_uri": "https://localhost:8080/",
          "height": 0
        },
        "id": "HA95NRaL80na",
        "outputId": "ff789e09-cf0f-4516-f3a3-9ae8430b4609"
      },
      "execution_count": 48,
      "outputs": [
        {
          "output_type": "stream",
          "name": "stdout",
          "text": [
            "SVM \n",
            "accuracy: 0.81 F1-score: 0.81 Precision: 0.84 Recall: 0.78\n"
          ]
        }
      ]
    },
    {
      "cell_type": "code",
      "source": [
        "linear_svc_classifier.fit(X_train_tfidf, y_train)\n",
        "\n",
        "y_pred = linear_svc_classifier.predict(X_test_tfidf)\n",
        "\n",
        "accuracy = accuracy_score(y_test, y_pred)\n",
        "\n",
        "print(\"SVM - TFIDF\")\n",
        "print(f\" accuracy: {accuracy:.2f}\")"
      ],
      "metadata": {
        "colab": {
          "base_uri": "https://localhost:8080/",
          "height": 0
        },
        "id": "AyF9ZzP-ZvG0",
        "outputId": "24d4cd7f-6083-4db6-f0de-b3e908faa39f"
      },
      "execution_count": 49,
      "outputs": [
        {
          "output_type": "stream",
          "name": "stdout",
          "text": [
            "SVM - TFIDF\n",
            " accuracy: 0.86\n"
          ]
        }
      ]
    },
    {
      "cell_type": "markdown",
      "source": [
        "References:\n",
        "1. https://radimrehurek.com/gensim/auto_examples/tutorials/run_word2vec.html"
      ],
      "metadata": {
        "id": "Dt7Om6wObsgP"
      }
    },
    {
      "cell_type": "markdown",
      "source": [
        "We can notice that TFIDF scores are slightly higher than W2V, maybe since these there are many repetitive words, because of which the frequencies are going to be a deciding factor, hence TFIDF does slightly better"
      ],
      "metadata": {
        "id": "F4Xs5sV1GV3z"
      }
    },
    {
      "cell_type": "code",
      "source": [
        "import gc"
      ],
      "metadata": {
        "id": "zDbnmk7mBZ7R"
      },
      "execution_count": 50,
      "outputs": []
    },
    {
      "cell_type": "code",
      "source": [
        "gc.collect()"
      ],
      "metadata": {
        "colab": {
          "base_uri": "https://localhost:8080/",
          "height": 0
        },
        "id": "6f60XPihhTR7",
        "outputId": "e7aa1ad9-4f09-4067-b5a7-933c7ace72d1"
      },
      "execution_count": 51,
      "outputs": [
        {
          "output_type": "execute_result",
          "data": {
            "text/plain": [
              "110"
            ]
          },
          "metadata": {},
          "execution_count": 51
        }
      ]
    },
    {
      "cell_type": "code",
      "source": [],
      "metadata": {
        "id": "7OsE6sgvBY2P"
      },
      "execution_count": null,
      "outputs": []
    },
    {
      "cell_type": "markdown",
      "source": [
        "## task 4"
      ],
      "metadata": {
        "id": "cwOdwCBX4dvO"
      }
    },
    {
      "cell_type": "code",
      "source": [
        "import torch\n",
        "import torch.nn as nn\n",
        "import torch.optim as optim\n",
        "from sklearn.model_selection import train_test_split\n",
        "from sklearn.metrics import accuracy_score\n",
        "from sklearn.metrics import classification_report\n",
        "\n",
        "import numpy as np\n",
        "from gensim.models import Word2Vec\n",
        "import gensim.downloader as api"
      ],
      "metadata": {
        "id": "0YMIXn_y4hXU"
      },
      "execution_count": 55,
      "outputs": []
    },
    {
      "cell_type": "code",
      "source": [
        "y = np.array(y)\n",
        "X_train, X_test, y_train, y_test = train_test_split(X_word2vec, y, test_size=0.2, random_state=42)\n"
      ],
      "metadata": {
        "id": "qesR4BWT7IsI"
      },
      "execution_count": 52,
      "outputs": []
    },
    {
      "cell_type": "code",
      "source": [
        "type(y_train)"
      ],
      "metadata": {
        "colab": {
          "base_uri": "https://localhost:8080/",
          "height": 0
        },
        "id": "B7L95CmW0p6R",
        "outputId": "4457aca7-aa85-4e29-cdf2-422a5371c55a"
      },
      "execution_count": 53,
      "outputs": [
        {
          "output_type": "execute_result",
          "data": {
            "text/plain": [
              "numpy.ndarray"
            ]
          },
          "metadata": {},
          "execution_count": 53
        }
      ]
    },
    {
      "cell_type": "code",
      "source": [
        "y_train = y_train.astype(np.int64)\n",
        "y_test = y_test.astype(np.int64)\n",
        "\n",
        "# Converting to PyTorch tensors\n",
        "XTrainTensor = torch.FloatTensor(X_train)\n",
        "XTestTensor = torch.FloatTensor(X_test)\n",
        "yTrainTensor = torch.LongTensor(y_train)\n",
        "yTestTensor = torch.LongTensor(y_test)\n"
      ],
      "metadata": {
        "colab": {
          "base_uri": "https://localhost:8080/",
          "height": 0
        },
        "id": "uM8tr2PW4iXX",
        "outputId": "a8b24670-2e62-4e36-edb8-3f59a11fe089"
      },
      "execution_count": 56,
      "outputs": [
        {
          "output_type": "stream",
          "name": "stderr",
          "text": [
            "<ipython-input-56-ece8ed848272>:5: UserWarning: Creating a tensor from a list of numpy.ndarrays is extremely slow. Please consider converting the list to a single numpy.ndarray with numpy.array() before converting to a tensor. (Triggered internally at ../torch/csrc/utils/tensor_new.cpp:261.)\n",
            "  XTrainTensor = torch.FloatTensor(X_train)\n"
          ]
        }
      ]
    },
    {
      "cell_type": "code",
      "source": [
        "input_size = XTrainTensor.shape[1]\n",
        "hidden1_size = 50\n",
        "hidden2_size = 5\n",
        "output_size = 2\n",
        "\n",
        "def init_weights(m):\n",
        "    if isinstance(m, nn.Linear):\n",
        "        nn.init.kaiming_uniform_(m.weight, nonlinearity='relu')\n",
        "\n",
        "model = nn.Sequential(\n",
        "    nn.Linear(input_size, hidden1_size),\n",
        "    nn.ReLU(),\n",
        "     nn.BatchNorm1d(hidden1_size),\n",
        "    nn.Dropout(0.4),\n",
        "    nn.Linear(hidden1_size, hidden2_size),\n",
        "    nn.ReLU(),\n",
        "    nn.BatchNorm1d(hidden2_size),\n",
        "    nn.Linear(hidden2_size, output_size),\n",
        "    # nn.Softmax(dim=1)\n",
        ")\n",
        "\n",
        "model.apply(init_weights)\n",
        "\n",
        "# Loss function and optimizer; this was the best results after comparing with optimiser like sgd, and other loss functions\n",
        "criterion = nn.CrossEntropyLoss()\n",
        "# optimizer= torch.optim.SGD(model.parameters(), lr=0.01)\n",
        "optimizer = optim.Adam(model.parameters(), lr=0.01)\n",
        "# scheduler = optim.lr_scheduler.StepLR(optimizer, step_size=10, gamma=0.5)\n",
        "\n",
        "# Training loop\n",
        "num_epochs = 500\n",
        "for epoch in range(num_epochs):\n",
        "    # Forward pass\n",
        "    outputs = model(XTrainTensor)\n",
        "    loss = criterion(outputs, yTrainTensor)\n",
        "\n",
        "\n",
        "    optimizer.zero_grad()\n",
        "    loss.backward()\n",
        "    optimizer.step()\n",
        "\n",
        "    if (epoch + 1) % 10 == 0:\n",
        "        print(f'Epoch [{epoch+1}/{num_epochs}]')\n",
        "\n",
        "\n",
        "with torch.no_grad():\n",
        "    model.eval()\n",
        "    outputs = model(XTestTensor)\n",
        "    _, predicted = torch.max(outputs, 1)\n",
        "    accuracy = accuracy_score(y_test, predicted.numpy())\n",
        "\n",
        "print(f'Accuracy on Testing Split: {accuracy * 100:.2f}%')\n",
        "\n",
        "\n",
        "print(\"Classification Report:\")\n",
        "print(classification_report(y_test, predicted.numpy()))"
      ],
      "metadata": {
        "colab": {
          "base_uri": "https://localhost:8080/",
          "height": 0
        },
        "id": "wNDmOuXi6Pb8",
        "outputId": "f0ff8b32-4cb4-45c9-c7ca-7c0852d26685"
      },
      "execution_count": 57,
      "outputs": [
        {
          "output_type": "stream",
          "name": "stdout",
          "text": [
            "Epoch [10/500]\n",
            "Epoch [20/500]\n",
            "Epoch [30/500]\n",
            "Epoch [40/500]\n",
            "Epoch [50/500]\n",
            "Epoch [60/500]\n",
            "Epoch [70/500]\n",
            "Epoch [80/500]\n",
            "Epoch [90/500]\n",
            "Epoch [100/500]\n",
            "Epoch [110/500]\n",
            "Epoch [120/500]\n",
            "Epoch [130/500]\n",
            "Epoch [140/500]\n",
            "Epoch [150/500]\n",
            "Epoch [160/500]\n",
            "Epoch [170/500]\n",
            "Epoch [180/500]\n",
            "Epoch [190/500]\n",
            "Epoch [200/500]\n",
            "Epoch [210/500]\n",
            "Epoch [220/500]\n",
            "Epoch [230/500]\n",
            "Epoch [240/500]\n",
            "Epoch [250/500]\n",
            "Epoch [260/500]\n",
            "Epoch [270/500]\n",
            "Epoch [280/500]\n",
            "Epoch [290/500]\n",
            "Epoch [300/500]\n",
            "Epoch [310/500]\n",
            "Epoch [320/500]\n",
            "Epoch [330/500]\n",
            "Epoch [340/500]\n",
            "Epoch [350/500]\n",
            "Epoch [360/500]\n",
            "Epoch [370/500]\n",
            "Epoch [380/500]\n",
            "Epoch [390/500]\n",
            "Epoch [400/500]\n",
            "Epoch [410/500]\n",
            "Epoch [420/500]\n",
            "Epoch [430/500]\n",
            "Epoch [440/500]\n",
            "Epoch [450/500]\n",
            "Epoch [460/500]\n",
            "Epoch [470/500]\n",
            "Epoch [480/500]\n",
            "Epoch [490/500]\n",
            "Epoch [500/500]\n",
            "Accuracy on Testing Split: 83.97%\n",
            "Classification Report:\n",
            "              precision    recall  f1-score   support\n",
            "\n",
            "           0       0.83      0.85      0.84      9965\n",
            "           1       0.85      0.83      0.84     10035\n",
            "\n",
            "    accuracy                           0.84     20000\n",
            "   macro avg       0.84      0.84      0.84     20000\n",
            "weighted avg       0.84      0.84      0.84     20000\n",
            "\n"
          ]
        }
      ]
    },
    {
      "cell_type": "markdown",
      "source": [
        "4b"
      ],
      "metadata": {
        "id": "FxPQ27TDn8fy"
      }
    },
    {
      "cell_type": "code",
      "source": [
        "import torch\n",
        "import torch.nn as nn\n",
        "import torch.optim as optim\n",
        "from torch.utils.data import DataLoader, TensorDataset\n",
        "from sklearn.model_selection import train_test_split\n",
        "from sklearn.metrics import accuracy_score\n",
        "import numpy as np\n",
        "from gensim.models import Word2Vec\n",
        "import gensim.downloader as api\n",
        "from sklearn.utils import shuffle"
      ],
      "metadata": {
        "id": "Ssg__ujSmnpS"
      },
      "execution_count": 60,
      "outputs": []
    },
    {
      "cell_type": "code",
      "source": [
        "input_size = 3000  # Assuming 300-dimensional word vectors(as prtrained is of 300) and considering the first ten words\n",
        "hidden_size = 50\n",
        "output_size = 2"
      ],
      "metadata": {
        "id": "5hbY4NTSmnlq"
      },
      "execution_count": 58,
      "outputs": []
    },
    {
      "cell_type": "code",
      "source": [
        "w2v = api.load('word2vec-google-news-300')\n"
      ],
      "metadata": {
        "colab": {
          "base_uri": "https://localhost:8080/",
          "height": 0
        },
        "id": "WMy_gmUjmniS",
        "outputId": "831177fb-f58b-40d4-84e5-d9d4f40c6a59"
      },
      "execution_count": 11,
      "outputs": [
        {
          "output_type": "stream",
          "name": "stdout",
          "text": [
            "[==================================================] 100.0% 1662.8/1662.8MB downloaded\n"
          ]
        }
      ]
    },
    {
      "cell_type": "markdown",
      "source": [
        "start4b"
      ],
      "metadata": {
        "id": "HoXJcSaAu_UR"
      }
    },
    {
      "cell_type": "code",
      "source": [
        "max_review_length = 10\n",
        "X_word2vec_mlp = [\n",
        "    [w2v[word] if word in w2v else np.zeros(300) for word in review.split()][:max_review_length]\n",
        "    for review in sdf['review_body']\n",
        "]\n",
        "\n",
        "X_word2vec_mlp = [\n",
        "    vec + [np.zeros(300)] * (max_review_length - len(vec)) for vec in X_word2vec_mlp\n",
        "]\n",
        "\n",
        "\n",
        "X_word2vec_ffn = torch.FloatTensor(X_word2vec_mlp)\n",
        "y_ffn = torch.FloatTensor(sdf['sentiment'].astype(int))  # for BCE loss converted to float\n",
        "\n",
        "\n",
        "X_word2vec_ffn, y_ffn = shuffle(X_word2vec_ffn, y_ffn, random_state=42)\n",
        "X_train_ffn, X_test_ffn, y_train_ffn, y_test_ffn = train_test_split(X_word2vec_ffn, y_ffn, test_size=0.2, random_state=42)\n"
      ],
      "metadata": {
        "id": "xzj-UkPenwg-"
      },
      "execution_count": 61,
      "outputs": []
    },
    {
      "cell_type": "code",
      "source": [
        "input_size_ffn = 3000  # 300 features for each of the first 10 words\n",
        "hidden_size1_ffn = 50\n",
        "hidden_size2_ffn = 5\n",
        "output_size_ffn = 1  # Single output neuron for binary classification\n",
        "batch_size_ffn = 32\n",
        "\n",
        "modelFFN = nn.Sequential(\n",
        "    nn.Linear(input_size_ffn, hidden_size1_ffn),\n",
        "    nn.ReLU(),\n",
        "    nn.Linear(hidden_size1_ffn, hidden_size2_ffn),\n",
        "    nn.ReLU(),\n",
        "    nn.Linear(hidden_size2_ffn, output_size_ffn)\n",
        ")"
      ],
      "metadata": {
        "id": "LS9SBpdanwd4"
      },
      "execution_count": 62,
      "outputs": []
    },
    {
      "cell_type": "code",
      "source": [
        "criterion_ffn = nn.BCEWithLogitsLoss()\n",
        "optimizer_ffn = optim.Adam(modelFFN.parameters(), lr=0.001)\n",
        "scheduler_ffn = optim.lr_scheduler.StepLR(optimizer_ffn, step_size=5, gamma=0.5)\n",
        "\n",
        "train_dataset_ffn = TensorDataset(X_train_ffn.view(-1, input_size_ffn), y_train_ffn.view(-1, 1))  # Reshape X and y\n",
        "train_loader_ffn = DataLoader(train_dataset_ffn, batch_size=batch_size_ffn, shuffle=True)\n"
      ],
      "metadata": {
        "id": "F5_uJcP5nwas"
      },
      "execution_count": 63,
      "outputs": []
    },
    {
      "cell_type": "code",
      "source": [
        "numEpochsFFN = 20\n",
        "for epoch in range(numEpochsFFN):\n",
        "    modelFFN.train()\n",
        "    for batch_X, batch_y in train_loader_ffn:\n",
        "        optimizer_ffn.zero_grad()\n",
        "        outputs_ffn = modelFFN(batch_X.view(-1, input_size_ffn))\n",
        "        loss_ffn = criterion_ffn(outputs_ffn, batch_y)\n",
        "        loss_ffn.backward()\n",
        "        optimizer_ffn.step()\n",
        "    scheduler_ffn.step()\n",
        "\n",
        "    if (epoch + 1) % 2 == 0:\n",
        "        print(f'Epoch [{epoch+1}/{numEpochsFFN}]')\n",
        "\n",
        "\n",
        "modelFFN.eval()\n",
        "with torch.no_grad():\n",
        "    outputs_ffn = modelFFN(X_test_ffn.view(-1, input_size_ffn))  # Reshape input\n",
        "    predicted_ffn = (torch.sigmoid(outputs_ffn) > 0.5).float()  # Convert to binary predictions\n",
        "    accuracy_ffn = accuracy_score(y_test_ffn, predicted_ffn.numpy())\n",
        "\n",
        "print(f'Accuracy on Testing Split with FFN: {accuracy_ffn * 100:.2f}%')"
      ],
      "metadata": {
        "colab": {
          "base_uri": "https://localhost:8080/",
          "height": 0
        },
        "id": "2YjARL2SnwXo",
        "outputId": "cda23e06-5a38-47a8-8a14-8efbfb723cf8"
      },
      "execution_count": 64,
      "outputs": [
        {
          "output_type": "stream",
          "name": "stdout",
          "text": [
            "Epoch [2/20]\n",
            "Epoch [4/20]\n",
            "Epoch [6/20]\n",
            "Epoch [8/20]\n",
            "Epoch [10/20]\n",
            "Epoch [12/20]\n",
            "Epoch [14/20]\n",
            "Epoch [16/20]\n",
            "Epoch [18/20]\n",
            "Epoch [20/20]\n",
            "Accuracy on Testing Split with FFN: 73.39%\n"
          ]
        }
      ]
    },
    {
      "cell_type": "markdown",
      "source": [
        "end4b"
      ],
      "metadata": {
        "id": "9DADuxkzvBU8"
      }
    },
    {
      "cell_type": "markdown",
      "source": [
        "Simpler models could be more robust in smaller dataset, as they are less likely to memorize noise in the training data. Hence FFN with aveage vector(4a) is comparable, but the concatenated vector (4b) has a lesser accuracy"
      ],
      "metadata": {
        "id": "17bPICy6HLjF"
      }
    },
    {
      "cell_type": "markdown",
      "source": [
        "5\n"
      ],
      "metadata": {
        "id": "AYid8Wq7y4AL"
      }
    },
    {
      "cell_type": "code",
      "source": [
        "import torch\n",
        "import torch.nn as nn\n",
        "import torch.optim as optim\n",
        "from torch.utils.data import DataLoader, TensorDataset\n",
        "from sklearn.model_selection import train_test_split\n",
        "from sklearn.metrics import accuracy_score\n",
        "from sklearn.utils import shuffle\n",
        "import gensim.downloader as api\n",
        "import numpy as np"
      ],
      "metadata": {
        "id": "cAJMC7ACzOON"
      },
      "execution_count": 13,
      "outputs": []
    },
    {
      "cell_type": "markdown",
      "source": [
        "5a) Using Recurrent Neural Networks to predict the sentiment for the test case.\n",
        "\n",
        "The vectors are got by considering first ten words of the review, and padding with zero if the size is less than 10"
      ],
      "metadata": {
        "id": "AFJ9m_Gx5-pt"
      }
    },
    {
      "cell_type": "code",
      "source": [
        "max_review_length = 10\n",
        "X_word2vec_rnn = [\n",
        "    [w2v[word] if word in w2v else np.zeros(300) for word in review.split()][:max_review_length]\n",
        "    for review in sdf['review_body']\n",
        "]\n",
        "\n",
        "X_word2vec_rnn = [\n",
        "    vec + [np.zeros(300)] * (max_review_length - len(vec)) for vec in X_word2vec_rnn\n",
        "]\n",
        "\n",
        "X_word2vec_rnn = torch.FloatTensor(X_word2vec_rnn)\n",
        "y_rnn = torch.FloatTensor(sdf['sentiment'].astype(int))\n"
      ],
      "metadata": {
        "id": "mVr-F_pLvLNj",
        "colab": {
          "base_uri": "https://localhost:8080/",
          "height": 0
        },
        "outputId": "b44e2c6a-1db4-4252-e952-c55c3fe1daba"
      },
      "execution_count": 12,
      "outputs": [
        {
          "output_type": "stream",
          "name": "stderr",
          "text": [
            "<ipython-input-12-076ed7908424>:11: UserWarning: Creating a tensor from a list of numpy.ndarrays is extremely slow. Please consider converting the list to a single numpy.ndarray with numpy.array() before converting to a tensor. (Triggered internally at ../torch/csrc/utils/tensor_new.cpp:261.)\n",
            "  X_word2vec_rnn = torch.FloatTensor(X_word2vec_rnn)\n"
          ]
        }
      ]
    },
    {
      "cell_type": "code",
      "source": [
        "X_word2vec_rnn, y_rnn = shuffle(X_word2vec_rnn, y_rnn, random_state=42)\n",
        "X_train_rnn, X_test_rnn, y_train_rnn, y_test_rnn = train_test_split(X_word2vec_rnn, y_rnn, test_size=0.2, random_state=42)\n",
        "\n",
        "\n",
        "class RNN(nn.Module):\n",
        "    def __init__(self, input_size, hidden_size, output_size):\n",
        "        super(RNN, self).__init__()\n",
        "        self.rnn = nn.RNN(input_size, hidden_size, batch_first=True)\n",
        "        self.fc = nn.Linear(hidden_size, output_size)\n",
        "\n",
        "    def forward(self, x):\n",
        "        out, e = self.rnn(x)\n",
        "        out = self.fc(out[:, -1, :])\n",
        "        return out\n",
        "\n",
        "input_size_rnn = 300\n",
        "hidden_size_rnn = 10\n",
        "output_size_rnn = 1\n",
        "batch_size_rnn = 32\n"
      ],
      "metadata": {
        "id": "DUsfxM5FvLKU"
      },
      "execution_count": 13,
      "outputs": []
    },
    {
      "cell_type": "code",
      "source": [
        "model_rnn = RNN(input_size_rnn, hidden_size_rnn, output_size_rnn)\n",
        "criterion_rnn = nn.BCEWithLogitsLoss()\n",
        "optimizer_rnn = optim.Adam(model_rnn.parameters(), lr=0.001)\n",
        "scheduler_rnn = optim.lr_scheduler.StepLR(optimizer_rnn, step_size=5, gamma=0.5)\n",
        "\n",
        "\n",
        "train_dataset_rnn = TensorDataset(X_train_rnn, y_train_rnn.view(-1, 1))\n",
        "train_loader_rnn = DataLoader(train_dataset_rnn, batch_size=batch_size_rnn, shuffle=True)\n"
      ],
      "metadata": {
        "id": "WNSMttllvLHB"
      },
      "execution_count": 14,
      "outputs": []
    },
    {
      "cell_type": "code",
      "source": [
        "num_epochs_rnn = 20\n",
        "for epoch in range(num_epochs_rnn):\n",
        "    model_rnn.train()\n",
        "    for batch_X, batch_y in train_loader_rnn:\n",
        "        # print(batch_X.shape)\n",
        "        optimizer_rnn.zero_grad()\n",
        "        outputs_rnn = model_rnn(batch_X)\n",
        "        loss_rnn = criterion_rnn(outputs_rnn, batch_y)\n",
        "        loss_rnn.backward()\n",
        "        torch.nn.utils.clip_grad_norm_(model_rnn.parameters(), max_norm=1) #to overcome exploding gradient problem\n",
        "        optimizer_rnn.step()\n",
        "    scheduler_rnn.step()\n",
        "    if (epoch + 1) % 2 == 0:\n",
        "        print(f'Epoch [{epoch+1}/{num_epochs_rnn}]')\n",
        "\n",
        "model_rnn.eval()\n",
        "with torch.no_grad():\n",
        "    outputs_rnn = model_rnn(X_test_rnn)\n",
        "    predicted_rnn = (torch.sigmoid(outputs_rnn) > 0.5).float()\n",
        "    accuracy_rnn = accuracy_score(y_test_rnn, predicted_rnn.numpy())\n",
        "\n",
        "print(f'Accuracy on Testing Split with RNN: {accuracy_rnn * 100:.2f}%')"
      ],
      "metadata": {
        "id": "kZiSAT4svLD-",
        "colab": {
          "base_uri": "https://localhost:8080/",
          "height": 0
        },
        "outputId": "6c54a5bb-3a51-4ac7-8a2f-0329421634bd"
      },
      "execution_count": 18,
      "outputs": [
        {
          "output_type": "stream",
          "name": "stdout",
          "text": [
            "Epoch [2/20]\n",
            "Epoch [4/20]\n",
            "Epoch [6/20]\n",
            "Epoch [8/20]\n",
            "Epoch [10/20]\n",
            "Epoch [12/20]\n",
            "Epoch [14/20]\n",
            "Epoch [16/20]\n",
            "Epoch [18/20]\n",
            "Epoch [20/20]\n",
            "Accuracy on Testing Split with RNN: 77.62%\n"
          ]
        }
      ]
    },
    {
      "cell_type": "markdown",
      "source": [
        "5b starts"
      ],
      "metadata": {
        "id": "LG9L4689r-dD"
      }
    },
    {
      "cell_type": "markdown",
      "source": [
        "5b) Using LSTM to predict the sentiment for the test case.\n",
        "\n",
        "The vectors are got by considering first ten words of the review, and padding with zero if the size is less than 10"
      ],
      "metadata": {
        "id": "06umbMuH6mnZ"
      }
    },
    {
      "cell_type": "markdown",
      "source": [
        "because GPU utilisation is very high, i have created vectors seperately for each of the three parts in this sections"
      ],
      "metadata": {
        "id": "ssjY0bCldvVm"
      }
    },
    {
      "cell_type": "code",
      "source": [
        "max_review_length = 10\n",
        "X_word2vec_lstm = [\n",
        "    [w2v[word] if word in w2v else np.zeros(300) for word in review.split()][:max_review_length]\n",
        "    for review in sdf['review_body']\n",
        "]\n",
        "\n",
        "X_word2vec_lstm = [\n",
        "    vec + [np.zeros(300)] * (max_review_length - len(vec)) for vec in X_word2vec_lstm\n",
        "]\n",
        "\n",
        "X_word2vec_lstm = torch.FloatTensor(X_word2vec_lstm)\n",
        "y_lstm = torch.FloatTensor(sdf['sentiment'].astype(int))\n",
        "\n",
        "X_word2vec_lstm, y_lstm = shuffle(X_word2vec_lstm, y_lstm, random_state=42)\n",
        "X_train_lstm, X_test_lstm, y_train_lstm, y_test_lstm = train_test_split(X_word2vec_lstm, y_lstm, test_size=0.2, random_state=42)\n",
        "\n",
        "\n"
      ],
      "metadata": {
        "colab": {
          "base_uri": "https://localhost:8080/",
          "height": 0
        },
        "id": "TjbCieau1TCN",
        "outputId": "dde99058-abe6-4f62-f615-7920f5269664"
      },
      "execution_count": 15,
      "outputs": [
        {
          "output_type": "stream",
          "name": "stderr",
          "text": [
            "<ipython-input-15-1bc9038752db>:11: UserWarning: Creating a tensor from a list of numpy.ndarrays is extremely slow. Please consider converting the list to a single numpy.ndarray with numpy.array() before converting to a tensor. (Triggered internally at ../torch/csrc/utils/tensor_new.cpp:261.)\n",
            "  X_word2vec_lstm = torch.FloatTensor(X_word2vec_lstm)\n"
          ]
        }
      ]
    },
    {
      "cell_type": "code",
      "source": [
        "\n",
        "class LSTMModel(nn.Module):\n",
        "    def __init__(self, input_size, hidden_size, output_size):\n",
        "        super(LSTMModel, self).__init__()\n",
        "        self.lstm = nn.LSTM(input_size, hidden_size, batch_first=True)\n",
        "        self.fc = nn.Linear(hidden_size, output_size)\n",
        "\n",
        "    def forward(self, x):\n",
        "        out, _ = self.lstm(x)\n",
        "        out = self.fc(out[:, -1, :])\n",
        "        return out\n",
        "\n",
        "input_size_lstm = 300\n",
        "hidden_size_lstm = 10\n",
        "output_size_lstm = 1\n",
        "batch_size_lstm = 32\n"
      ],
      "metadata": {
        "id": "Xpij0YdhAt-G"
      },
      "execution_count": 16,
      "outputs": []
    },
    {
      "cell_type": "code",
      "source": [
        "model_lstm = LSTMModel(input_size_lstm, hidden_size_lstm, output_size_lstm)\n",
        "criterion_lstm = nn.BCEWithLogitsLoss()  # Binary cross-entropy loss\n",
        "optimizer_lstm = optim.Adam(model_lstm.parameters(), lr=0.001)\n",
        "scheduler_lstm = optim.lr_scheduler.StepLR(optimizer_lstm, step_size=5, gamma=0.5)\n",
        "\n",
        "train_dataset_lstm = TensorDataset(X_train_lstm, y_train_lstm.view(-1, 1))\n",
        "train_loader_lstm = DataLoader(train_dataset_lstm, batch_size=batch_size_lstm, shuffle=True)\n",
        "\n",
        "\n",
        "num_epochs_lstm = 20\n",
        "for epoch in range(num_epochs_lstm):\n",
        "    model_lstm.train()\n",
        "    for batch_X, batch_y in train_loader_lstm:\n",
        "        optimizer_lstm.zero_grad()\n",
        "        outputs_lstm = model_lstm(batch_X)\n",
        "        loss_lstm = criterion_lstm(outputs_lstm, batch_y)\n",
        "        loss_lstm.backward()\n",
        "        optimizer_lstm.step()\n",
        "    scheduler_lstm.step()\n",
        "\n",
        "    if (epoch + 1) % 2 == 0:\n",
        "        print(f'Epoch [{epoch+1}/{num_epochs_lstm}]')\n",
        "\n",
        "\n",
        "model_lstm.eval()\n",
        "with torch.no_grad():\n",
        "    outputs_lstm = model_lstm(X_test_lstm)\n",
        "    predicted_lstm = (torch.sigmoid(outputs_lstm) > 0.5).float()\n",
        "    accuracy_lstm = accuracy_score(y_test_lstm, predicted_lstm.numpy())\n",
        "\n",
        "print(f'Accuracy on Testing Split with LSTM: {accuracy_lstm * 100:.2f}%')"
      ],
      "metadata": {
        "colab": {
          "base_uri": "https://localhost:8080/",
          "height": 0
        },
        "id": "titzAUtl6Nnu",
        "outputId": "2c1c2abb-ed67-4df2-ebc6-8789544ab24d"
      },
      "execution_count": 17,
      "outputs": [
        {
          "output_type": "stream",
          "name": "stdout",
          "text": [
            "Epoch [2/20]\n",
            "Epoch [4/20]\n",
            "Epoch [6/20]\n",
            "Epoch [8/20]\n",
            "Epoch [10/20]\n",
            "Epoch [12/20]\n",
            "Epoch [14/20]\n",
            "Epoch [16/20]\n",
            "Epoch [18/20]\n",
            "Epoch [20/20]\n",
            "Accuracy on Testing Split with LSTM: 79.50%\n"
          ]
        }
      ]
    },
    {
      "cell_type": "markdown",
      "source": [
        "5c"
      ],
      "metadata": {
        "id": "l91mrz9oBAhz"
      }
    },
    {
      "cell_type": "markdown",
      "source": [
        "5c) Using Gated Recurrent Units(GRU Cell) to predict the sentiment for the test case.\n",
        "\n",
        "The vectors are got by considering first ten words of the review, and padding with zero if the size is less than 10"
      ],
      "metadata": {
        "id": "VWfxxv4p6vpm"
      }
    },
    {
      "cell_type": "code",
      "source": [
        "\n",
        "\n",
        "X_word2vec_gru = [\n",
        "    [w2v[word] if word in w2v else np.zeros(300) for word in review.split()][:10]\n",
        "    for review in sdf['review_body']\n",
        "]\n",
        "\n",
        "X_word2vec_gru = [\n",
        "    vec + [np.zeros(300)] * (max_review_length - len(vec)) for vec in X_word2vec_gru\n",
        "]\n",
        "\n",
        "\n",
        "X_word2vec_gru = torch.FloatTensor(X_word2vec_gru)\n",
        "y_gru = torch.FloatTensor(sdf['sentiment'].astype(int))\n",
        "\n",
        "X_word2vec_gru, y_gru = shuffle(X_word2vec_gru, y_gru, random_state=42)\n",
        "X_train_gru, X_test_gru, y_train_gru, y_test_gru = train_test_split(X_word2vec_gru, y_gru, test_size=0.2, random_state=42)\n",
        "\n",
        "class GRUModel(nn.Module):\n",
        "    def __init__(self, input_size, hidden_size, output_size):\n",
        "        super(GRUModel, self).__init__()\n",
        "        self.gru = nn.GRU(input_size, hidden_size, batch_first=True)\n",
        "        self.fc = nn.Linear(hidden_size, output_size)\n",
        "\n",
        "    def forward(self, x):\n",
        "        out, _ = self.gru(x)\n",
        "        out = self.fc(out[:, -1, :])\n",
        "        return out\n",
        "\n",
        "input_size_gru = 300\n",
        "hidden_size_gru = 10\n",
        "output_size_gru = 1\n",
        "batch_size_gru = 32\n",
        "\n",
        "model_gru = GRUModel(input_size_gru, hidden_size_gru, output_size_gru)\n",
        "criterion_gru = nn.BCEWithLogitsLoss()\n",
        "optimizer_gru = optim.Adam(model_gru.parameters(), lr=0.001)\n",
        "scheduler_gru = optim.lr_scheduler.StepLR(optimizer_gru, step_size=5, gamma=0.5)\n",
        "\n",
        "\n",
        "train_dataset_gru = TensorDataset(X_train_gru, y_train_gru.view(-1, 1))  # Reshape y\n",
        "train_loader_gru = DataLoader(train_dataset_gru, batch_size=batch_size_gru, shuffle=True)\n",
        "\n",
        "# Training loop\n",
        "num_epochs_gru = 100\n",
        "for epoch in range(num_epochs_gru):\n",
        "    model_gru.train()\n",
        "    for batch_X, batch_y in train_loader_gru:\n",
        "        optimizer_gru.zero_grad()\n",
        "        outputs_gru = model_gru(batch_X)\n",
        "        loss_gru = criterion_gru(outputs_gru, batch_y)\n",
        "        loss_gru.backward()\n",
        "        optimizer_gru.step()\n",
        "    scheduler_gru.step()\n",
        "\n",
        "    if (epoch + 1) % 2 == 0:\n",
        "        print(f'Epoch [{epoch+1}/{num_epochs_gru}]')\n",
        "\n",
        "# Evaluation on the testing split\n",
        "model_gru.eval()\n",
        "with torch.no_grad():\n",
        "    outputs_gru = model_gru(X_test_gru)\n",
        "    predicted_gru = (torch.sigmoid(outputs_gru) > 0.5).float()\n",
        "    accuracy_gru = accuracy_score(y_test_gru, predicted_gru.numpy())\n",
        "\n",
        "print(f'Accuracy on Testing Split with GRU: {accuracy_gru * 100:.2f}%')\n"
      ],
      "metadata": {
        "id": "zcl7zWQrvK-K",
        "colab": {
          "base_uri": "https://localhost:8080/",
          "height": 0
        },
        "outputId": "6ebf2403-8f9a-44da-92d4-364f7710b7e8"
      },
      "execution_count": 13,
      "outputs": [
        {
          "output_type": "stream",
          "name": "stderr",
          "text": [
            "<ipython-input-13-f3618bb8bab1>:14: UserWarning: Creating a tensor from a list of numpy.ndarrays is extremely slow. Please consider converting the list to a single numpy.ndarray with numpy.array() before converting to a tensor. (Triggered internally at ../torch/csrc/utils/tensor_new.cpp:245.)\n",
            "  X_word2vec_gru = torch.FloatTensor(X_word2vec_gru)\n"
          ]
        },
        {
          "output_type": "stream",
          "name": "stdout",
          "text": [
            "Epoch [2/20], Loss: 0.3779\n",
            "Epoch [4/20], Loss: 0.4204\n",
            "Epoch [6/20], Loss: 0.6012\n",
            "Epoch [8/20], Loss: 0.3501\n",
            "Epoch [10/20], Loss: 0.4237\n",
            "Epoch [12/20], Loss: 0.6609\n",
            "Epoch [14/20], Loss: 0.5397\n",
            "Epoch [16/20], Loss: 0.4133\n",
            "Epoch [18/20], Loss: 0.3039\n",
            "Epoch [20/20], Loss: 0.2272\n",
            "Accuracy on Testing Split with GRU: 79.58%\n"
          ]
        }
      ]
    },
    {
      "cell_type": "markdown",
      "source": [
        "We can observe that for the RNN which considers a vector created by truncated review with 10 words and padding the smaller ones, accuracies are better for RNN compared to FFN; this suggests that the sequential relationship is high, hence temporal context results in a higher accuracy"
      ],
      "metadata": {
        "id": "3fUMqfO2H5JV"
      }
    },
    {
      "cell_type": "code",
      "source": [],
      "metadata": {
        "id": "e_eT9t0UvK69"
      },
      "execution_count": null,
      "outputs": []
    },
    {
      "cell_type": "markdown",
      "source": [
        "The accuracies for the various models can be summarised as follows:\n",
        "\n",
        "1. Perceptron : 67\n",
        "; Perceptron (TFIDF) : 82\n",
        "3. SVM : 81 ; SVM (TFIDF) : 86\n",
        "5. Feed forward Network (Average review vector) : 83.39\n",
        "6. Feed forward Network (Concatenated 10 vectors) : 73.37\n",
        "7. RNN : 77.62\n",
        "8. LSTM Cell : 79.50\n",
        "9. GRU Cell : 79.58\n",
        "\n",
        "\n",
        "\n"
      ],
      "metadata": {
        "id": "Z0fJCohmeu_z"
      }
    }
  ]
}